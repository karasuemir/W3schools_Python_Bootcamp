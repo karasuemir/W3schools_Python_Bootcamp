{
  "cells": [
    {
      "cell_type": "code",
      "execution_count": 305,
      "metadata": {
        "colab": {
          "base_uri": "https://localhost:8080/"
        },
        "id": "hSlMG2UmRFHu",
        "outputId": "31b1e20d-ab39-486a-de64-76482887eb18"
      },
      "outputs": [
        {
          "name": "stdout",
          "output_type": "stream",
          "text": [
            "5\n"
          ]
        }
      ],
      "source": [
        "x = 3             #Satırların hepsinin aynı sırada olası gerekir\n",
        "y = 2\n",
        "print(x + y) \n",
        "#print(x + y + y)\n",
        "\n"
      ]
    },
    {
      "cell_type": "code",
      "execution_count": 154,
      "metadata": {
        "id": "AP9YSdb5RUoZ"
      },
      "outputs": [],
      "source": [
        "#2kırmızıelma = x  #Sayı , kesik çizgi , boşluk kullanılmaz\n",
        "#kırmızı-elma = x \n",
        "#kırmızı elma = x\n",
        "KırmızıElma = x    #Her kelime büyük harflen başlar\n",
        "kırmızı_elma = x   #Her kelime alt çizgiylen başlar"
      ]
    },
    {
      "cell_type": "code",
      "execution_count": 155,
      "metadata": {
        "colab": {
          "base_uri": "https://localhost:8080/"
        },
        "id": "x1eLR1VNRUsd",
        "outputId": "2f3308d5-c67c-4748-d46b-662b1e61f07d"
      },
      "outputs": [
        {
          "name": "stdout",
          "output_type": "stream",
          "text": [
            "elma\n",
            "portakal\n",
            "armut\n"
          ]
        }
      ],
      "source": [
        "x,z,y = 'elma','armut','portakal'\n",
        "print(x)                           #Bir satırda birden fazla değişken tanımlana bilir\n",
        "print(y)\n",
        "print(z)"
      ]
    },
    {
      "cell_type": "code",
      "execution_count": 156,
      "metadata": {
        "colab": {
          "base_uri": "https://localhost:8080/"
        },
        "id": "d-IcNFf1RUwA",
        "outputId": "c9236578-653e-4a35-c975-5ecf281aff83"
      },
      "outputs": [
        {
          "name": "stdout",
          "output_type": "stream",
          "text": [
            "portakal\n",
            "portakal\n",
            "portakal\n"
          ]
        }
      ],
      "source": [
        "x = y = z = 'portakal'\n",
        "print(x)               #Aynı değeri bir satırda birden fazla değişkene tanımlaya bilirrsiniz\n",
        "print(y)\n",
        "print(z)"
      ]
    },
    {
      "cell_type": "code",
      "execution_count": 157,
      "metadata": {
        "colab": {
          "base_uri": "https://localhost:8080/"
        },
        "id": "KNGE99FjRUzZ",
        "outputId": "0d6f2b5b-f8d0-4287-a917-ae788fab2875"
      },
      "outputs": [
        {
          "name": "stdout",
          "output_type": "stream",
          "text": [
            "elma\n",
            "portakal\n",
            "armut\n"
          ]
        }
      ],
      "source": [
        "meyveler = {'elma','armut','portakal'}\n",
        "x , y , z = meyveler\n",
        "print(x)                                #Birden fazla değişkene kümedeki elemanar sırasıyla tanımlana biir\n",
        "print(y)\n",
        "print(z)"
      ]
    },
    {
      "cell_type": "code",
      "execution_count": 158,
      "metadata": {
        "colab": {
          "base_uri": "https://localhost:8080/"
        },
        "id": "wtZAtY1zYxZt",
        "outputId": "1db9b100-5ba8-4a30-c96e-b26006364edd"
      },
      "outputs": [
        {
          "name": "stdout",
          "output_type": "stream",
          "text": [
            "kırmızı elema\n"
          ]
        }
      ],
      "source": [
        "x = 'elema'              #Print değişken çıktılamak için kullanılır \"+\" karakteri metni ve değişkeni birleştirmek için kullanılır\n",
        "print('kırmızı ' + x)"
      ]
    },
    {
      "cell_type": "code",
      "execution_count": 159,
      "metadata": {
        "colab": {
          "base_uri": "https://localhost:8080/"
        },
        "id": "qXF0ZapIYxW1",
        "outputId": "c173d94e-d4ab-4aaf-fcf9-2fc0e55858db"
      },
      "outputs": [
        {
          "name": "stdout",
          "output_type": "stream",
          "text": [
            "kırmızı elma\n"
          ]
        }
      ],
      "source": [
        "x = 'kırmızı '      #Değişkenleri birleştirip yeni bir değişken oluşturmak içinde '+' karakteri kullanılır\n",
        "y = 'elma'\n",
        "z = x + y\n",
        "print(z)"
      ]
    },
    {
      "cell_type": "code",
      "execution_count": 160,
      "metadata": {
        "id": "T8nASD7QYxTd"
      },
      "outputs": [
        {
          "name": "stdout",
          "output_type": "stream",
          "text": [
            "15\n"
          ]
        }
      ],
      "source": [
        "x = 10           #Sayılar için '+' karakteri matematiksel işlem için kuanılır\n",
        "y = 5\n",
        "print(x +y)"
      ]
    },
    {
      "cell_type": "code",
      "execution_count": 161,
      "metadata": {
        "colab": {
          "base_uri": "https://localhost:8080/"
        },
        "id": "8ntGtX5MYxPr",
        "outputId": "08434ba0-7a9e-45a1-9770-1ae38163eb39"
      },
      "outputs": [],
      "source": [
        "#x = 10           # Bir sayı ve dizgeyi '+' karakteriile birleştirmeye calışırsak hata verir\n",
        "#y = 'elma'\n",
        "#print(x + y)"
      ]
    },
    {
      "cell_type": "code",
      "execution_count": 162,
      "metadata": {
        "colab": {
          "base_uri": "https://localhost:8080/"
        },
        "id": "teIYPVxGYxLv",
        "outputId": "fdd1c271-9c0d-4050-8cfa-fa705b52270f"
      },
      "outputs": [
        {
          "name": "stdout",
          "output_type": "stream",
          "text": [
            "portakal,elma\n"
          ]
        }
      ],
      "source": [
        "x = 'elma'                 #Fonksiyonun dişında tanımlanan değişken gobal değişken olarak bilinir hem fonksiyonun içinde hemde dıında kullanıla bilir\n",
        "def meyveler():\n",
        "  print('portakal,' + x)\n",
        "\n",
        "meyveler()"
      ]
    },
    {
      "cell_type": "code",
      "execution_count": 163,
      "metadata": {
        "colab": {
          "base_uri": "https://localhost:8080/"
        },
        "id": "BffVXOGlYxFK",
        "outputId": "8c4568c9-7174-4025-d0ce-1694b39e0ed9"
      },
      "outputs": [
        {
          "name": "stdout",
          "output_type": "stream",
          "text": [
            "portakal,armut\n",
            "portakal,elma\n"
          ]
        }
      ],
      "source": [
        "x = 'elma'                      #Fonksiyonun içinde global değişkenlen aynı isimde başka bir değişken oluşturursanız oluşan değişken sadece fonksiyonun içinde kullanılır\n",
        "def meyveler():\n",
        "  x = 'armut'\n",
        "  print('portakal,' + x) \n",
        "meyveler()\n",
        "print('portakal,' + x)"
      ]
    },
    {
      "cell_type": "code",
      "execution_count": 164,
      "metadata": {
        "colab": {
          "base_uri": "https://localhost:8080/"
        },
        "id": "yymdskn-Yw2_",
        "outputId": "c19041d9-43fa-472f-9583-1e4e6659525e"
      },
      "outputs": [
        {
          "name": "stdout",
          "output_type": "stream",
          "text": [
            "portakal,elma\n"
          ]
        }
      ],
      "source": [
        "def meyveler():               # Bir fonksiyonun içinde değişken tanımlanınca o değişken sadece fonksiyonun içinde kullanılır bunu farklı yerlerde de kullanmak için 'global' anahtar kelimesini kullanmak gerekir.\n",
        "  global x\n",
        "meyveler()\n",
        "print('portakal,' + x)"
      ]
    },
    {
      "cell_type": "code",
      "execution_count": 165,
      "metadata": {
        "colab": {
          "base_uri": "https://localhost:8080/"
        },
        "id": "VCpY8VAXcZuX",
        "outputId": "409bf0c8-cec8-40a8-dfd5-b38785901254"
      },
      "outputs": [
        {
          "name": "stdout",
          "output_type": "stream",
          "text": [
            "portakal,armut\n"
          ]
        }
      ],
      "source": [
        "x = 'elma'                 #global değişkeni fonksiyonun içinde değiştirmek için 'global' anahtar kelimesi kullanmak gerekir\n",
        "def meyveler():\n",
        "  global x\n",
        "  x = 'armut'\n",
        "meyveler()\n",
        "print('portakal,' + x)"
      ]
    },
    {
      "cell_type": "code",
      "execution_count": 166,
      "metadata": {
        "colab": {
          "base_uri": "https://localhost:8080/"
        },
        "id": "oEdJ_o7KcZrG",
        "outputId": "0c8c8639-b240-4d80-d407-48cc0668c473"
      },
      "outputs": [
        {
          "name": "stdout",
          "output_type": "stream",
          "text": [
            "<class 'str'>\n",
            "<class 'int'>\n",
            "<class 'float'>\n",
            "<class 'complex'>\n",
            "<class 'list'>\n",
            "<class 'tuple'>\n",
            "<class 'range'>\n",
            "<class 'dict'>\n",
            "<class 'set'>\n",
            "<class 'set'>\n",
            "<class 'bool'>\n",
            "<class 'bytes'>\n",
            "<class 'bytearray'>\n",
            "<class 'memoryview'>\n"
          ]
        }
      ],
      "source": [
        "a = 'kırmızı elma'                     # str string\n",
        "print(type(a))\n",
        "\n",
        "b = 10                                 # int intger\n",
        "print(type(b))\n",
        "\n",
        "c = 20.5                               # float \n",
        "print(type(c))\n",
        "\n",
        "d = 5j                                 # complex\n",
        "print(type(d))\n",
        "\n",
        "e = ['elma','armut','portakal']        #list\n",
        "print(type(e))\n",
        "\n",
        "f = ('elma','armut','portakal')        #tuple\n",
        "print(type(f))\n",
        "\n",
        "g = range(5)                           #range\n",
        "print(type(g))\n",
        "\n",
        "ğ = {'adı':'yiğit','yaş':19}           #dict\n",
        "print(type(ğ))\n",
        "\n",
        "h = {'elma','armut','portakal'}        #set\n",
        "print(type(h))\n",
        "\n",
        "m = ({'elma','armut','portakal'})      #frozenset\n",
        "print(type(m)) \n",
        "\n",
        "ı = bool(5)                            #bool\n",
        "print(type(ı))\n",
        "\n",
        "i = bytes(5)                           #bytes\n",
        "print(type(i))\n",
        "\n",
        "k = bytearray(5)                       #bytearray\n",
        "print(type(k))\n",
        "\n",
        "l = memoryview(bytes(5))               #memoryview\n",
        "print(type(l))"
      ]
    },
    {
      "cell_type": "code",
      "execution_count": 167,
      "metadata": {
        "colab": {
          "base_uri": "https://localhost:8080/"
        },
        "id": "YpmL1m87cZnE",
        "outputId": "53d4d89b-167a-476a-fa80-03d84733e6ca"
      },
      "outputs": [
        {
          "name": "stdout",
          "output_type": "stream",
          "text": [
            "10.0\n",
            "5\n",
            "(10+0j)\n"
          ]
        }
      ],
      "source": [
        "x = 10\n",
        "y = 5.2\n",
        "z = 1 + 3j\n",
        "\n",
        "a = float(x)         # x'i floata dönüştür\n",
        "b = int(y)           # b'yi intgere dönüştür\n",
        "c = complex(x)       # c'yi complexe dönüştür\n",
        "\n",
        "print(a)\n",
        "print(b)\n",
        "print(c)"
      ]
    },
    {
      "cell_type": "code",
      "execution_count": 168,
      "metadata": {
        "colab": {
          "base_uri": "https://localhost:8080/"
        },
        "id": "vDdURpwtcZi3",
        "outputId": "4540c8d2-556e-4d26-c3bf-42ae2267fbbd"
      },
      "outputs": [
        {
          "name": "stdout",
          "output_type": "stream",
          "text": [
            "e\n"
          ]
        }
      ],
      "source": [
        "a = 'kırmızı elma'     # Dizeler 0 dan başlayarak sıralanır örneğin: k,ı,r,m,ı,z,ı, ,e, l , m , a  istenilen sıradaki karakter yazılır\n",
        "print(a[8])            #                                             1 2 3 4 5 6 7 8 9 10  11  12"
      ]
    },
    {
      "cell_type": "code",
      "execution_count": 169,
      "metadata": {
        "colab": {
          "base_uri": "https://localhost:8080/"
        },
        "id": "Or4yZv0GcZfN",
        "outputId": "546194f5-ce6f-4c63-f556-ca1ff352a56e"
      },
      "outputs": [
        {
          "name": "stdout",
          "output_type": "stream",
          "text": [
            "e\n",
            "l\n",
            "m\n",
            "a\n"
          ]
        }
      ],
      "source": [
        "for x in 'elma':       # 'for' kelimesi dizenin karakterleri arasında dolaşmayı sağlar\n",
        "  print(x)"
      ]
    },
    {
      "cell_type": "code",
      "execution_count": 170,
      "metadata": {
        "colab": {
          "base_uri": "https://localhost:8080/"
        },
        "id": "0MrHHVr6nEwx",
        "outputId": "b0ed31c0-e4b8-4c84-952a-9d5374bdf607"
      },
      "outputs": [
        {
          "name": "stdout",
          "output_type": "stream",
          "text": [
            "12\n"
          ]
        }
      ],
      "source": [
        "x = 'kırmızı elma'     # dizenin karakter uzunuğunu bulmak için 'len()' komutu kullanılır\n",
        "print(len(x))\n"
      ]
    },
    {
      "cell_type": "code",
      "execution_count": 171,
      "metadata": {
        "colab": {
          "base_uri": "https://localhost:8080/"
        },
        "id": "S8C2Uv-8nEoI",
        "outputId": "1a48d57e-2da2-41c6-a39d-2f9ab1401bef"
      },
      "outputs": [
        {
          "name": "stdout",
          "output_type": "stream",
          "text": [
            "True\n",
            "False\n"
          ]
        }
      ],
      "source": [
        "c = 'Evin önündeki mavi araba'  #'in' tanımlanan dizenin içinde istenilen karakterin olup olmadığını bulup 'bool' değişkeninde (doğru,yanlış) yazdırıyor\n",
        "print('araba' in c)\n",
        "print('x' in c)"
      ]
    },
    {
      "cell_type": "code",
      "execution_count": 172,
      "metadata": {
        "colab": {
          "base_uri": "https://localhost:8080/"
        },
        "id": "Xw6pWMHPnEPj",
        "outputId": "bae66c6c-8f9d-4841-f8f4-6dc72420e837"
      },
      "outputs": [
        {
          "name": "stdout",
          "output_type": "stream",
          "text": [
            "Evet\n"
          ]
        }
      ],
      "source": [
        "c ='evin önündeki mavi araba'  #'if' ifadesi ilen koşul koyduk\n",
        "if 'mavi araba' in c:\n",
        "  print('Evet')\n"
      ]
    },
    {
      "cell_type": "code",
      "execution_count": 173,
      "metadata": {
        "colab": {
          "base_uri": "https://localhost:8080/"
        },
        "id": "9Mwku_Lk2mMp",
        "outputId": "48154cb3-907b-4bf1-f476-2706b3d489ed"
      },
      "outputs": [
        {
          "name": "stdout",
          "output_type": "stream",
          "text": [
            "ızı\n"
          ]
        }
      ],
      "source": [
        "a = 'kırmızı elma'             # Bir dizenin belli bir karakterini yazdırmak için tanımlanan dizenin adı ve başlangıç ve bitiş numarasını yazılmalıdır.\n",
        "print(a[4:7])                  # (yazdırımanın başlangıçındakı sayı dahildir bitiş sayısı dahil değildir)"
      ]
    },
    {
      "cell_type": "code",
      "execution_count": 174,
      "metadata": {
        "colab": {
          "base_uri": "https://localhost:8080/"
        },
        "id": "yMuYAUwp7qxH",
        "outputId": "a86e86ee-f6ed-4110-ddfc-2756367636ff"
      },
      "outputs": [
        {
          "name": "stdout",
          "output_type": "stream",
          "text": [
            "kır\n"
          ]
        }
      ],
      "source": [
        "a = 'kırmızı elma'            # Dizenin başlangıç konumunu yazmazsak 0 dan başlayarak istediğimiz karaktere kadar yazar.\n",
        "print(a[:3])         "
      ]
    },
    {
      "cell_type": "code",
      "execution_count": 175,
      "metadata": {
        "colab": {
          "base_uri": "https://localhost:8080/"
        },
        "id": "PgH-irsB2l31",
        "outputId": "4a3076b8-92b6-4ea8-fc17-79f916e4d3a7"
      },
      "outputs": [
        {
          "name": "stdout",
          "output_type": "stream",
          "text": [
            "elma\n"
          ]
        }
      ],
      "source": [
        "a = 'kırmızı elma'            # Dizenin bitiş karakteri belli değilse belirlediğimiz başlangıç karakterinden başlayarak son karaktere kadar yazdırır\n",
        "print(a[8:])"
      ]
    },
    {
      "cell_type": "code",
      "execution_count": 176,
      "metadata": {
        "colab": {
          "base_uri": "https://localhost:8080/"
        },
        "id": "f9JzUAvT2l0e",
        "outputId": "e36f5a6a-b798-49f6-ab99-faf9562b6c58"
      },
      "outputs": [
        {
          "name": "stdout",
          "output_type": "stream",
          "text": [
            "ızı el\n"
          ]
        }
      ],
      "source": [
        "a ='kırmızı elma'            #Dizenin sonundan başlamak için negatif indeksleme yapılırı\n",
        "print(a[-8:-2])"
      ]
    },
    {
      "cell_type": "code",
      "execution_count": 177,
      "metadata": {
        "colab": {
          "base_uri": "https://localhost:8080/"
        },
        "id": "TyH0Meuw2lxJ",
        "outputId": "c53a93a4-be82-419c-8afb-0d94ee9568e2"
      },
      "outputs": [
        {
          "name": "stdout",
          "output_type": "stream",
          "text": [
            "KIRMIZI ELMA\n"
          ]
        }
      ],
      "source": [
        "a = 'kırmızı elma'           #Dizenin harflerini büyütmek için upper 'upper' kelimesi kullanılır\n",
        "print(a.upper())"
      ]
    },
    {
      "cell_type": "code",
      "execution_count": 178,
      "metadata": {
        "colab": {
          "base_uri": "https://localhost:8080/"
        },
        "id": "ta3wyRPkgF_5",
        "outputId": "8fe5fefd-beff-43aa-8367-6b2dd5c089dc"
      },
      "outputs": [
        {
          "name": "stdout",
          "output_type": "stream",
          "text": [
            "kırmızı elma\n"
          ]
        }
      ],
      "source": [
        "a = 'kırmızı elma'           #Dizenin harflerini küçültmek için 'lower' kullanılır\n",
        "print(a.lower())"
      ]
    },
    {
      "cell_type": "code",
      "execution_count": 179,
      "metadata": {
        "colab": {
          "base_uri": "https://localhost:8080/"
        },
        "id": "-2ZTwMjHgF8T",
        "outputId": "44a42490-2832-47a4-e308-44697cc76a84"
      },
      "outputs": [
        {
          "name": "stdout",
          "output_type": "stream",
          "text": [
            "kırmızı elma\n"
          ]
        }
      ],
      "source": [
        "a = ' kırmızı elma '        #Dizenin baştaki veya sondaki boşuklarını kaldırmak için 'strip' kelimesi kullanılır\n",
        "print(a.strip())"
      ]
    },
    {
      "cell_type": "code",
      "execution_count": 180,
      "metadata": {
        "colab": {
          "base_uri": "https://localhost:8080/"
        },
        "id": "aDjDHf-vgF43",
        "outputId": "0998dd1a-c0ff-4b0a-8588-3a1f7b31f74f"
      },
      "outputs": [
        {
          "name": "stdout",
          "output_type": "stream",
          "text": [
            "kırmızı elmalar\n"
          ]
        }
      ],
      "source": [
        "a = 'kırmızı elma'             #Dizenin belli bir karakterini değiştirmek için 'replace' kelimesi kullanılır\n",
        "print(a.replace('a','alar'))"
      ]
    },
    {
      "cell_type": "code",
      "execution_count": 181,
      "metadata": {
        "colab": {
          "base_uri": "https://localhost:8080/"
        },
        "id": "kGl_96DegF1P",
        "outputId": "70b5923b-1330-4ed4-91f1-8f96309869e4"
      },
      "outputs": [
        {
          "name": "stdout",
          "output_type": "stream",
          "text": [
            "['kırmızı', 'elma']\n"
          ]
        }
      ],
      "source": [
        "a = 'kırmızı elma'            #Dizeyi belirlediğin yerden dizelere böler\n",
        "print(a.split(' '))"
      ]
    },
    {
      "cell_type": "code",
      "execution_count": 182,
      "metadata": {
        "colab": {
          "base_uri": "https://localhost:8080/"
        },
        "id": "QYU719dTgFpY",
        "outputId": "d9fe9798-eaae-49df-ae96-944a18f11b43"
      },
      "outputs": [
        {
          "name": "stdout",
          "output_type": "stream",
          "text": [
            "kırmızı elma\n"
          ]
        }
      ],
      "source": [
        "a = 'kırmızı'                 #Dezeleri birleştirirken aralarında boşuk olmasını istiyorsak örnekteki gibi yaparak yapabiliriz\n",
        "b = 'elma' \n",
        "c = a + ' ' + b\n",
        "print(c)"
      ]
    },
    {
      "cell_type": "code",
      "execution_count": 183,
      "metadata": {
        "colab": {
          "base_uri": "https://localhost:8080/"
        },
        "id": "gFU6E6t2i10g",
        "outputId": "03844302-b3fb-4c26-97fc-474b21ea2816"
      },
      "outputs": [
        {
          "name": "stdout",
          "output_type": "stream",
          "text": [
            "Adım Emir ve yaşım 19\n"
          ]
        }
      ],
      "source": [
        "yaş = 19                        #Dize ve sayıyı birleştirirken python hata veriri bunu 'format' anahtarı ilen yapabiliriz\n",
        "a =  'Adım Emir ve yaşım {}'\n",
        "print(a.format(yaş))"
      ]
    },
    {
      "cell_type": "code",
      "execution_count": 184,
      "metadata": {
        "colab": {
          "base_uri": "https://localhost:8080/"
        },
        "id": "RZHTXmMVi1rK",
        "outputId": "9b6d1d28-e1d9-4c43-a453-fa589b1b4df8"
      },
      "outputs": [
        {
          "name": "stdout",
          "output_type": "stream",
          "text": [
            "Adım Emir Karasu yaşım 19 kilom 59.5\n"
          ]
        }
      ],
      "source": [
        "Soy_Ad = 'Karasu'              #Birden faza argüman yapabilirsiniz sırasıyla koyar\n",
        "Yaş = 19\n",
        "Kilo = 59.50\n",
        "a = 'Adım Emir {} yaşım {} kilom {}'\n",
        "print(a.format(Soy_Ad,Yaş,Kilo))\n"
      ]
    },
    {
      "cell_type": "code",
      "execution_count": 185,
      "metadata": {
        "colab": {
          "base_uri": "https://localhost:8080/"
        },
        "id": "eAhnanA8i1nj",
        "outputId": "b731fa4c-c096-428c-84fe-9478b2851799"
      },
      "outputs": [
        {
          "name": "stdout",
          "output_type": "stream",
          "text": [
            "Adım Emir Karasu yaşım 19 kilom 59.5\n"
          ]
        }
      ],
      "source": [
        "Soy_Ad = 'Karasu'              #Birden faza argüman yapabilirsiniz sırasıyla koyar\n",
        "Yaş = 19\n",
        "Kilo = 59.50\n",
        "a = 'Adım Emir {1} yaşım {2} kilom {0}'\n",
        "print(a.format(Kilo,Soy_Ad,Yaş))"
      ]
    },
    {
      "cell_type": "code",
      "execution_count": 186,
      "metadata": {
        "colab": {
          "base_uri": "https://localhost:8080/"
        },
        "id": "zO0ADPiSi1i5",
        "outputId": "1036b915-a7d4-4750-c494-b86be5091a48"
      },
      "outputs": [
        {
          "name": "stdout",
          "output_type": "stream",
          "text": [
            "Adım Emir Karasu yaşım 19 kocaeli 'Hereke' 'den geliyorum\n"
          ]
        }
      ],
      "source": [
        "a = 'Adım Emir Karasu yaşım 19 kocaeli \\'Hereke\\' \\'den geliyorum'      #Dizenin içine geçersiz karakter kullanmak için ( \\') işareti kullanılır\n",
        "print(a)"
      ]
    },
    {
      "cell_type": "code",
      "execution_count": 187,
      "metadata": {
        "colab": {
          "base_uri": "https://localhost:8080/"
        },
        "id": "TjmbZ3UH5726",
        "outputId": "6bbf9b90-5ddf-4554-b532-e70f150f702a"
      },
      "outputs": [
        {
          "name": "stdout",
          "output_type": "stream",
          "text": [
            "Hereke'den\n",
            "kırmızı\n",
            "elma\n",
            "kırmızı\telma\n",
            "kırmızıelma\n",
            "Emir\tKarasu\n",
            "Emir\tKarasu\n"
          ]
        }
      ],
      "source": [
        "a ='Hereke\\'den'                                       # \\' len kesme işareti yapılır\n",
        "print(a)\n",
        "\n",
        "b = 'kırmızı\\nelma'                                    # \\n len olduğu yerden ayırıp ikinci kısmı bir alt satır başın alır\n",
        "print(b)\n",
        "\n",
        "d ='kırmızı\\telma'                                     # \\t ilen  olduğu yere boşluk bırakır\n",
        "print(d)\n",
        "\n",
        "e ='kırmızı \\belma'                                    # \\b ilen olduğu yerdeki bir tane boşluğu siler\n",
        "print(e)\n",
        "\n",
        "f = '\\105\\155\\151\\162\\t\\113\\141\\162\\141\\163\\165'       # Harflerin oktal(sekizlik) sayı tabanındaki karşılığı ilen yazdırma \\(oktal tabanındaki sayının karşılığı) şeklinde yapılır \n",
        "print(f)\n",
        "\n",
        "g ='\\x45\\x6d\\x69\\x72\\t\\x4b\\x61\\x72\\x61\\x73\\x75'        # harflerin hexadecimal(onaltılık) sayı tabanındaki karşılığı ilen yazmak için \\(xhexadecimal tabanındakı sayının karşılığı) şeklinde yapılır\n",
        "print(g)"
      ]
    },
    {
      "cell_type": "code",
      "execution_count": 188,
      "metadata": {
        "colab": {
          "base_uri": "https://localhost:8080/"
        },
        "id": "X0RuBiXP570P",
        "outputId": "58142002-b571-4b1c-857b-b093d0e55b29"
      },
      "outputs": [
        {
          "name": "stdout",
          "output_type": "stream",
          "text": [
            "a büyüktür b'den\n"
          ]
        }
      ],
      "source": [
        "a = 98\n",
        "b = 35\n",
        "if a > b:\n",
        "  print('a büyüktür b\\'den')\n",
        "else:\n",
        "  print('b büyüktür a\\'dan')"
      ]
    },
    {
      "cell_type": "code",
      "execution_count": 189,
      "metadata": {
        "colab": {
          "base_uri": "https://localhost:8080/"
        },
        "id": "YSU3dz_A57w-",
        "outputId": "ac9657b8-0b68-425d-8640-1f0b624f1cc4"
      },
      "outputs": [
        {
          "name": "stdout",
          "output_type": "stream",
          "text": [
            "15\n",
            "6\n",
            "60\n",
            "4.0\n",
            "1\n",
            "64\n",
            "3\n"
          ]
        }
      ],
      "source": [
        "a = (10 + 5)\n",
        "print(a)\n",
        "\n",
        "b = (11 - 5)\n",
        "print(b)\n",
        "\n",
        "c = (10 * 6)\n",
        "print(c)\n",
        "\n",
        "d = (20 / 5)\n",
        "print(d)\n",
        "\n",
        "e = (10%3)\n",
        "print(e)\n",
        "\n",
        "f = (4**3)\n",
        "print(f)\n",
        "\n",
        "g = (10//3)\n",
        "print(g)\n",
        "\n"
      ]
    },
    {
      "cell_type": "code",
      "execution_count": 190,
      "metadata": {
        "colab": {
          "base_uri": "https://localhost:8080/"
        },
        "id": "HFi3vJUv57rj",
        "outputId": "e778abc7-ecaa-451f-8bd5-697e8e16a005"
      },
      "outputs": [
        {
          "name": "stdout",
          "output_type": "stream",
          "text": [
            "5\n",
            "8\n",
            "5\n",
            "15\n",
            "5.0\n",
            "2.0\n",
            "0.0\n",
            "0.0\n"
          ]
        }
      ],
      "source": [
        "x = 5\n",
        "print(x)\n",
        "x += 3\n",
        "print(x)\n",
        "x -= 3\n",
        "print(x)\n",
        "x *= 3\n",
        "print(x)\n",
        "x /= 3\n",
        "print(x)\n",
        "x %= 3\n",
        "print(x)\n",
        "x //= 3\n",
        "print(x)\n",
        "x **= 3\n",
        "print(x)\n"
      ]
    },
    {
      "cell_type": "code",
      "execution_count": 191,
      "metadata": {
        "colab": {
          "base_uri": "https://localhost:8080/",
          "height": 38
        },
        "id": "VicTaaMs57oQ",
        "outputId": "8bcd6485-ae0c-461f-92f5-37272d21ec6f"
      },
      "outputs": [
        {
          "data": {
            "text/latex": [
              "$\\displaystyle x \\leq y$"
            ],
            "text/plain": [
              "x <= y"
            ]
          },
          "execution_count": 191,
          "metadata": {},
          "output_type": "execute_result"
        }
      ],
      "source": [
        "from sympy import *\n",
        "x = symbols('x')\n",
        "y = symbols('y')\n",
        "x == y\n",
        "x != y\n",
        "x > y\n",
        "x < y\n",
        "x >= y\n",
        "x <= y\n"
      ]
    },
    {
      "cell_type": "code",
      "execution_count": 192,
      "metadata": {
        "colab": {
          "base_uri": "https://localhost:8080/"
        },
        "id": "BwGUVlGJ57lN",
        "outputId": "81c4231e-701c-4ce6-f2e1-c279615cd5b2"
      },
      "outputs": [
        {
          "data": {
            "text/plain": [
              "False"
            ]
          },
          "execution_count": 192,
          "metadata": {},
          "output_type": "execute_result"
        }
      ],
      "source": [
        "x = int(input('değer giriniz: '))\n",
        "x < 5 and x < 10 \n",
        "\n",
        "\n",
        "\n"
      ]
    },
    {
      "cell_type": "code",
      "execution_count": 193,
      "metadata": {
        "colab": {
          "base_uri": "https://localhost:8080/"
        },
        "id": "u9NFgCenJWmd",
        "outputId": "82cdfd4f-9b4a-4d65-b1a0-a2f6984f0ad0"
      },
      "outputs": [
        {
          "data": {
            "text/plain": [
              "False"
            ]
          },
          "execution_count": 193,
          "metadata": {},
          "output_type": "execute_result"
        }
      ],
      "source": [
        "y =int(input('değer giriniz: '))\n",
        "y < 5 or y < 4"
      ]
    },
    {
      "cell_type": "code",
      "execution_count": 194,
      "metadata": {
        "colab": {
          "base_uri": "https://localhost:8080/"
        },
        "id": "zQzpiVhsJ_td",
        "outputId": "771fb20a-7da9-482c-a834-e95900fd0c92"
      },
      "outputs": [
        {
          "data": {
            "text/plain": [
              "True"
            ]
          },
          "execution_count": 194,
          "metadata": {},
          "output_type": "execute_result"
        }
      ],
      "source": [
        "x = int(input('değer giriniz: '))\n",
        "not(x < 5 and x < 10) "
      ]
    },
    {
      "cell_type": "code",
      "execution_count": 195,
      "metadata": {
        "colab": {
          "base_uri": "https://localhost:8080/"
        },
        "id": "zhsB97xsJ_p5",
        "outputId": "cbea229e-fe12-44fd-e41d-986e2d140f58"
      },
      "outputs": [
        {
          "name": "stdout",
          "output_type": "stream",
          "text": [
            "True\n",
            "False\n",
            "True\n"
          ]
        }
      ],
      "source": [
        "a = ['elma','armut']\n",
        "b = ['elma','armut']\n",
        "c = a \n",
        "\n",
        "print(a is c)           #a ilen c aynı veriyi kullanıp kullanmadığını kontrol ediyor bool cinsinde yanıt veriyor\n",
        "print(a is b)           #a ilen b aynı içerik olsa bile aynı veriyi kullanmadığı için bool cinsinde yanlış oluyor\n",
        "print(a == b)           # a ilen b yi eşitlediğimiz için doğru oluyor"
      ]
    },
    {
      "cell_type": "code",
      "execution_count": 196,
      "metadata": {
        "colab": {
          "base_uri": "https://localhost:8080/"
        },
        "id": "7Flt9e3qKLWC",
        "outputId": "ac5eef08-8d7e-44ef-90ac-ff09869e4af5"
      },
      "outputs": [
        {
          "name": "stdout",
          "output_type": "stream",
          "text": [
            "False\n"
          ]
        }
      ],
      "source": [
        "a = ['elma','armut']          #listenin içinde kümeninin içinde istenilen değişkenin olup olmadığını kontrol ediyor\n",
        "print('portakal' in a)"
      ]
    },
    {
      "cell_type": "code",
      "execution_count": 197,
      "metadata": {
        "colab": {
          "base_uri": "https://localhost:8080/"
        },
        "id": "pztJXnnPKLPe",
        "outputId": "11a83952-0448-4101-9cfa-20b909e7ea63"
      },
      "outputs": [
        {
          "name": "stdout",
          "output_type": "stream",
          "text": [
            "['elma', 'armut', 'kiraz', 'ayva', 'kivi']\n"
          ]
        }
      ],
      "source": [
        "meyveler = ['elma','armut','portakal','ayva','kivi']          #listenin istenilen değerini değiştirme\n",
        "meyveler[2] = 'kiraz'\n",
        "print(meyveler)\n"
      ]
    },
    {
      "cell_type": "code",
      "execution_count": 198,
      "metadata": {
        "colab": {
          "base_uri": "https://localhost:8080/"
        },
        "id": "qK0uoKIKKLMV",
        "outputId": "ea07a6a2-b087-4a97-e3d1-fff3b79d597f"
      },
      "outputs": [
        {
          "name": "stdout",
          "output_type": "stream",
          "text": [
            "['elma', 'limon', 'mandilina', 'ayva', 'kivi']\n"
          ]
        }
      ],
      "source": [
        "meyveler = ['elma','armut','portakal','ayva','kivi']         #istenilen aralığıktaki değişkenleri değiştirme\n",
        "meyveler[1:3] = ['limon','mandilina']\n",
        "print(meyveler)"
      ]
    },
    {
      "cell_type": "code",
      "execution_count": 199,
      "metadata": {
        "colab": {
          "base_uri": "https://localhost:8080/"
        },
        "id": "kY1Md_zdTFvK",
        "outputId": "1461392a-34e4-4aa1-b1f4-6620ceaec65f"
      },
      "outputs": [
        {
          "name": "stdout",
          "output_type": "stream",
          "text": [
            "['elma', 'ayva', 'kivi', 'portakal']\n"
          ]
        }
      ],
      "source": [
        "meyveler = ['elma','armut','portakal']                      #bir değeri yerine iki değier koyma\n",
        "meyveler[1:2] = ['ayva','kivi']\n",
        "print(meyveler)"
      ]
    },
    {
      "cell_type": "code",
      "execution_count": 200,
      "metadata": {
        "colab": {
          "base_uri": "https://localhost:8080/"
        },
        "id": "lkt8mnXuTFoi",
        "outputId": "364743f1-4b07-4b52-f833-8e3444279b5c"
      },
      "outputs": [
        {
          "name": "stdout",
          "output_type": "stream",
          "text": [
            "['elma', 'limon', 'kivi']\n"
          ]
        }
      ],
      "source": [
        "meyveler = ['elma','armut','portakal','ayva','kivi']       #birden fazla değeri birdeğere dönüştürme\n",
        "meyveler[1:4] = ['limon']\n",
        "print(meyveler)"
      ]
    },
    {
      "cell_type": "code",
      "execution_count": 201,
      "metadata": {
        "colab": {
          "base_uri": "https://localhost:8080/"
        },
        "id": "syHUeF5dTFlI",
        "outputId": "d056d7ec-35f5-4e7c-d0ef-0f4ceec33e69"
      },
      "outputs": [
        {
          "name": "stdout",
          "output_type": "stream",
          "text": [
            "['elma', 'armut', 'portakal', 'limon', 'ayva', 'kivi']\n"
          ]
        }
      ],
      "source": [
        "meyveler = ['elma','armut','portakal','ayva','kivi']      # listetedik değişkenleri değiştirmeden istediğimiz yere değişken ekleme\n",
        "meyveler.insert(3,'limon')\n",
        "print(meyveler)"
      ]
    },
    {
      "cell_type": "code",
      "execution_count": 202,
      "metadata": {
        "colab": {
          "base_uri": "https://localhost:8080/"
        },
        "id": "kFutw3IsV-ZB",
        "outputId": "f2d15d7e-bc32-4427-f452-085a0c314c98"
      },
      "outputs": [
        {
          "name": "stdout",
          "output_type": "stream",
          "text": [
            "['elma', 'armut', 'portakal', 'ayva', 'kivi', 'limon']\n"
          ]
        }
      ],
      "source": [
        "meyveler = ['elma','armut','portakal','ayva','kivi']     #lisetenin sonuna eleman eklemek için 'append' kullanılır.\n",
        "meyveler.append('limon')\n",
        "print(meyveler)"
      ]
    },
    {
      "cell_type": "code",
      "execution_count": 203,
      "metadata": {
        "colab": {
          "base_uri": "https://localhost:8080/"
        },
        "id": "2KLBP4odV-WE",
        "outputId": "ec547455-80a3-408c-f320-be74d2c74f14"
      },
      "outputs": [
        {
          "name": "stdout",
          "output_type": "stream",
          "text": [
            "['elma', 'armut', 'portakal', 'limon', 'ayva', 'kivi']\n"
          ]
        }
      ],
      "source": [
        "meyveler1 = ['elma', 'armut', 'portakal']               #iki listeyi birleştirmek için 'extend' kullanılır.\n",
        "meyveler2 = ['limon', 'ayva', 'kivi']\n",
        "meyveler1.extend(meyveler2)\n",
        "print(meyveler1)\n"
      ]
    },
    {
      "cell_type": "code",
      "execution_count": 204,
      "metadata": {
        "colab": {
          "base_uri": "https://localhost:8080/"
        },
        "id": "7g0JhnBLV-SW",
        "outputId": "0b9b69a8-4398-43ea-c055-9535d4363443"
      },
      "outputs": [
        {
          "name": "stdout",
          "output_type": "stream",
          "text": [
            "['elma', 'armut', 'portakal', 'kivi']\n"
          ]
        }
      ],
      "source": [
        "meyveler = ['elma','armut','portakal','ayva','kivi']      #listeden istenilen değeri çıkartmak için 'remove' kullanıır.\n",
        "meyveler.remove('ayva')\n",
        "print(meyveler)\n"
      ]
    },
    {
      "cell_type": "code",
      "execution_count": 205,
      "metadata": {
        "colab": {
          "base_uri": "https://localhost:8080/"
        },
        "id": "4YNPbTsZY-qw",
        "outputId": "e0750f3c-a14e-413b-c514-f69a49fb3482"
      },
      "outputs": [
        {
          "name": "stdout",
          "output_type": "stream",
          "text": [
            "['elma', 'armut', 'portakal', 'kivi']\n"
          ]
        }
      ],
      "source": [
        "meyveler = ['elma','armut','portakal','ayva','kivi']    #listeden istenilen indeksi kaldırmak için 'pop' kullanılır. (dize belirtmezseniz son endeksi kaldırır)\n",
        "meyveler.pop(3)\n",
        "print(meyveler)"
      ]
    },
    {
      "cell_type": "code",
      "execution_count": 206,
      "metadata": {
        "id": "M47ZuPMPY-nf"
      },
      "outputs": [],
      "source": [
        "meyveler = ['elma','armut','portakal','ayva','kivi']   #dizeyi tamamen kaldırmak içinde 'del' kullanılır.\n",
        "del meyveler\n"
      ]
    },
    {
      "cell_type": "code",
      "execution_count": 207,
      "metadata": {
        "colab": {
          "base_uri": "https://localhost:8080/"
        },
        "id": "MH2TsU9cY-kM",
        "outputId": "5804d652-d15a-4a28-ae7d-4793af0b18b5"
      },
      "outputs": [
        {
          "name": "stdout",
          "output_type": "stream",
          "text": [
            "[]\n"
          ]
        }
      ],
      "source": [
        "meyveler = ['elma','armut','portakal','ayva','kivi']   #listeyi boşaltır ama liste kalır.\n",
        "meyveler.clear()\n",
        "print(meyveler)"
      ]
    },
    {
      "cell_type": "code",
      "execution_count": 208,
      "metadata": {
        "colab": {
          "base_uri": "https://localhost:8080/"
        },
        "id": "f1YmpScU9lfy",
        "outputId": "05d89606-699e-4ea5-968c-0c150894938c"
      },
      "outputs": [
        {
          "name": "stdout",
          "output_type": "stream",
          "text": [
            "elma\n",
            "armut\n",
            "portakal\n",
            "ayva\n",
            "kivi\n"
          ]
        }
      ],
      "source": [
        "meyveler = ['elma','armut','portakal','ayva','kivi']  #dizelerdeki değişkeni alt alta yazdırır.\n",
        "for x in meyveler:\n",
        "  print(x)"
      ]
    },
    {
      "cell_type": "code",
      "execution_count": 209,
      "metadata": {
        "colab": {
          "base_uri": "https://localhost:8080/"
        },
        "id": "W-2Cpt_a9ldH",
        "outputId": "138563cc-415e-4ff3-ba12-f085d9e5e911"
      },
      "outputs": [
        {
          "name": "stdout",
          "output_type": "stream",
          "text": [
            "elma\n",
            "armut\n",
            "portakal\n",
            "ayva\n",
            "kivi\n"
          ]
        }
      ],
      "source": [
        "meyveler = ['elma','armut','portakal','ayva','kivi']  #range komutu ilen dizedeki değişkenleri alt alta yazdırır.\n",
        "for x in range(len(meyveler)):\n",
        "  print(meyveler[x])"
      ]
    },
    {
      "cell_type": "code",
      "execution_count": 210,
      "metadata": {
        "colab": {
          "base_uri": "https://localhost:8080/"
        },
        "id": "j3g8EKKm9lZ9",
        "outputId": "8b49fc0b-837b-44cd-c31e-dbe14aed7685"
      },
      "outputs": [
        {
          "name": "stdout",
          "output_type": "stream",
          "text": [
            "elma\n",
            "armut\n",
            "portakal\n",
            "ayva\n",
            "kivi\n"
          ]
        }
      ],
      "source": [
        "meyveler = ['elma','armut','portakal','ayva','kivi']  \n",
        "i = 0                                                   # i değişkenini 0'a eşitler.\n",
        "while i < len(meyveler):                                # i 'meyveler' kümesindeki değişken sayısından küçük ise\n",
        "  print(meyveler[i])                                    # meyveler dizesindeki i değerindeki değişkeni yaz.\n",
        "  i = i+1                                               # i yi bir artır."
      ]
    },
    {
      "cell_type": "code",
      "execution_count": 211,
      "metadata": {
        "colab": {
          "base_uri": "https://localhost:8080/"
        },
        "id": "ALhaZl3j9lSe",
        "outputId": "99de85db-9887-4f80-c415-842a0c27190e"
      },
      "outputs": [
        {
          "name": "stdout",
          "output_type": "stream",
          "text": [
            "['elma', 'armut']\n"
          ]
        }
      ],
      "source": [
        "meyveler = ['elma','armut','portakal','ayva','kivi']      #meyveler listesindeki m harfi geçenleri sevilen meyveler dizesine yaz.\n",
        "sevdiğim_meyveler =[]\n",
        "for x in meyveler:\n",
        "  if 'm' in x:\n",
        "    sevdiğim_meyveler.append(x)\n",
        "print(sevdiğim_meyveler)    "
      ]
    },
    {
      "cell_type": "code",
      "execution_count": 212,
      "metadata": {
        "colab": {
          "base_uri": "https://localhost:8080/"
        },
        "id": "3orBeIRXBkml",
        "outputId": "68442b98-7171-4600-c001-29631cd5192b"
      },
      "outputs": [
        {
          "name": "stdout",
          "output_type": "stream",
          "text": [
            "['elma', 'armut']\n"
          ]
        }
      ],
      "source": [
        "meyveler = [ 'elma','armut','portakal','ayva','kivi']    #yukarıdaki şeyin aynısını tek satırda yapabiiyoruz\n",
        "sevdiğim_meyveler = [x for x in meyveler if 'm' in x]\n",
        "print(sevdiğim_meyveler)"
      ]
    },
    {
      "cell_type": "code",
      "execution_count": 213,
      "metadata": {
        "colab": {
          "base_uri": "https://localhost:8080/"
        },
        "id": "Ji8fEYhlBkju",
        "outputId": "e7f2b5bc-c75e-4cf8-86bf-362c7c9a3efd"
      },
      "outputs": [
        {
          "name": "stdout",
          "output_type": "stream",
          "text": [
            "[0, 1, 2, 3, 4, 5, 6, 7, 8, 9]\n"
          ]
        }
      ],
      "source": [
        "sayı_listesi = [x for x in range(10)]\n",
        "print(sayı_listesi)"
      ]
    },
    {
      "cell_type": "code",
      "execution_count": 214,
      "metadata": {
        "colab": {
          "base_uri": "https://localhost:8080/"
        },
        "id": "9rBb_nq5Bkgg",
        "outputId": "d2ff795a-0882-4123-f00b-fd5f136d97be"
      },
      "outputs": [
        {
          "name": "stdout",
          "output_type": "stream",
          "text": [
            "[0, 1, 2, 3, 4]\n"
          ]
        }
      ],
      "source": [
        "sayı_listesi = [x for x in range(10) if x <5]\n",
        "print(sayı_listesi)\n"
      ]
    },
    {
      "cell_type": "code",
      "execution_count": 215,
      "metadata": {
        "colab": {
          "base_uri": "https://localhost:8080/"
        },
        "id": "aR9olkSeBkXE",
        "outputId": "1d10bbe4-4e6f-43cf-e88a-3a7bbef26f81"
      },
      "outputs": [
        {
          "name": "stdout",
          "output_type": "stream",
          "text": [
            "['ELMA', 'ARMUT', 'PORTAKAL', 'AYVA', 'KIVI']\n"
          ]
        }
      ],
      "source": [
        "meyveler = ['elma','armut','portakal','ayva','kivi']\n",
        "MEYVELER = [x.upper() for x in meyveler]\n",
        "print(MEYVELER)"
      ]
    },
    {
      "cell_type": "code",
      "execution_count": 216,
      "metadata": {
        "colab": {
          "base_uri": "https://localhost:8080/"
        },
        "id": "MFRkXkr6PrIM",
        "outputId": "8dd879b6-94df-45c4-dc5c-0de55a55d402"
      },
      "outputs": [
        {
          "name": "stdout",
          "output_type": "stream",
          "text": [
            "['merhaba', 'merhaba', 'merhaba', 'merhaba', 'merhaba']\n"
          ]
        }
      ],
      "source": [
        "meyveler = ['elma','armut','portakal','ayva','kivi']\n",
        "değiştirme = ['merhaba' for x in meyveler]\n",
        "print(değiştirme)"
      ]
    },
    {
      "cell_type": "code",
      "execution_count": 217,
      "metadata": {
        "colab": {
          "base_uri": "https://localhost:8080/"
        },
        "id": "dq4XmRjqPrFY",
        "outputId": "bfceeccc-52f4-46a4-b16c-59603de6dbea"
      },
      "outputs": [
        {
          "name": "stdout",
          "output_type": "stream",
          "text": [
            "['elma', 'armut', 'portakal', 'nar', 'kivi']\n"
          ]
        }
      ],
      "source": [
        "meyveler = ['elma','armut','portakal','ayva','kivi']\n",
        "yeni_meyveler = [x if x != 'ayva' else 'nar' for x in meyveler]\n",
        "print(yeni_meyveler)"
      ]
    },
    {
      "cell_type": "code",
      "execution_count": 218,
      "metadata": {
        "colab": {
          "base_uri": "https://localhost:8080/"
        },
        "id": "Ms_iUl0aPrCT",
        "outputId": "02944444-11b6-43a5-8851-80f3683dd63a"
      },
      "outputs": [
        {
          "name": "stdout",
          "output_type": "stream",
          "text": [
            "['armut', 'ayva', 'elma', 'kivi', 'portakal']\n"
          ]
        }
      ],
      "source": [
        "meyveler = ['elma','armut','portakal','ayva','kivi']            # sort büyük küçük harflere duyarlıdır büyük har küçük harften önceliklidir\n",
        "meyveler.sort()\n",
        "print(meyveler)"
      ]
    },
    {
      "cell_type": "code",
      "execution_count": 219,
      "metadata": {
        "colab": {
          "base_uri": "https://localhost:8080/"
        },
        "id": "ionSfUgWYlES",
        "outputId": "0452ea17-03a2-41c4-a308-89debfb4bbd7"
      },
      "outputs": [
        {
          "name": "stdout",
          "output_type": "stream",
          "text": [
            "['armut', 'Ayva', 'Elma', 'kivi', 'portakal']\n"
          ]
        }
      ],
      "source": [
        "meyveler = ['Elma','armut','portakal','Ayva','kivi']\n",
        "meyveler.sort(key = str.lower)\n",
        "print(meyveler)"
      ]
    },
    {
      "cell_type": "code",
      "execution_count": 220,
      "metadata": {
        "colab": {
          "base_uri": "https://localhost:8080/"
        },
        "id": "zOMT7s4rZvwh",
        "outputId": "f83abd12-b424-47ce-e6c8-e9e12ff93916"
      },
      "outputs": [
        {
          "name": "stdout",
          "output_type": "stream",
          "text": [
            "['kivi', 'ayva', 'portakal', 'armut', 'elma']\n"
          ]
        }
      ],
      "source": [
        "meyveler = ['elma','armut','portakal','ayva','kivi']            #listeyi terse çevirir\n",
        "meyveler.reverse()\n",
        "print(meyveler)"
      ]
    },
    {
      "cell_type": "code",
      "execution_count": 221,
      "metadata": {
        "colab": {
          "base_uri": "https://localhost:8080/"
        },
        "id": "jHBJdkoYPq-_",
        "outputId": "3ed4da07-50fb-4819-d3be-553a3d73e257"
      },
      "outputs": [
        {
          "name": "stdout",
          "output_type": "stream",
          "text": [
            "[100, 63, 57, 49, 38, 27, 25]\n"
          ]
        }
      ],
      "source": [
        "sayılar = [100,25,38,57,63,49,27]                                  \n",
        "sayılar.sort(reverse = True)\n",
        "print(sayılar)"
      ]
    },
    {
      "cell_type": "code",
      "execution_count": 222,
      "metadata": {
        "colab": {
          "base_uri": "https://localhost:8080/"
        },
        "id": "uYq0mK-dToA_",
        "outputId": "df889047-3d8a-4dd8-bcab-cc42095e80bb"
      },
      "outputs": [
        {
          "name": "stdout",
          "output_type": "stream",
          "text": [
            "['elma', 'armut', 'portakal', 'ayva', 'kivi']\n"
          ]
        }
      ],
      "source": [
        "meyveler = ['elma','armut','portakal','ayva','kivi']\n",
        "meyveler2 = meyveler.copy()\n",
        "print(meyveler2) "
      ]
    },
    {
      "cell_type": "code",
      "execution_count": 223,
      "metadata": {
        "colab": {
          "base_uri": "https://localhost:8080/"
        },
        "id": "BPYU6g4MTn-Q",
        "outputId": "e2095285-4ef6-4de2-a7ca-7efabdce6ef0"
      },
      "outputs": [
        {
          "name": "stdout",
          "output_type": "stream",
          "text": [
            "['elma', 'armut', 'portakal', 'ayva', 'kivi']\n"
          ]
        }
      ],
      "source": [
        "meyveler = ['elma','armut','portakal','ayva','kivi']\n",
        "meyveler2 = list(meyveler)\n",
        "print(meyveler2)"
      ]
    },
    {
      "cell_type": "code",
      "execution_count": 224,
      "metadata": {
        "colab": {
          "base_uri": "https://localhost:8080/"
        },
        "id": "3mE84HMSTn6_",
        "outputId": "141c52c8-c77b-434b-d0e5-f8e6caee4fdc"
      },
      "outputs": [
        {
          "name": "stdout",
          "output_type": "stream",
          "text": [
            "['a', 'b', 'c', 'd', 'e', 1, 2, 3, 4, 5]\n"
          ]
        }
      ],
      "source": [
        "harf_listesi = ['a','b','c','d','e']\n",
        "sayı_listesi = [1,2,3,4,5]\n",
        "harf_listesi.extend(sayı_listesi)\n",
        "print(harf_listesi)"
      ]
    },
    {
      "cell_type": "code",
      "execution_count": 225,
      "metadata": {
        "colab": {
          "base_uri": "https://localhost:8080/"
        },
        "id": "feyE4BTMTnxd",
        "outputId": "9961d46d-d496-45b0-d9a2-448708390011"
      },
      "outputs": [
        {
          "name": "stdout",
          "output_type": "stream",
          "text": [
            "('elma', 'armut', 'portakal', 'ayva', 'kivi', 'armut')\n"
          ]
        }
      ],
      "source": [
        "meyveler = ('elma','armut','portakal','ayva','kivi','armut')\n",
        "print(meyveler)"
      ]
    },
    {
      "cell_type": "code",
      "execution_count": 226,
      "metadata": {
        "colab": {
          "base_uri": "https://localhost:8080/"
        },
        "id": "JH9zoYobTnuT",
        "outputId": "d99a0573-61ce-49a8-f720-485e559c2879"
      },
      "outputs": [
        {
          "name": "stdout",
          "output_type": "stream",
          "text": [
            "('elma', 'armut', 'kivi')\n"
          ]
        }
      ],
      "source": [
        "x = ('elma','muz','kivi')            #tuple değiştirilemez fakat listeye dönüştürüp değiştirip tekrar tuple ye dönüştürülebilir.         \n",
        "y = list(x)\n",
        "y[1] = 'armut'\n",
        "x = tuple(y)\n",
        "print(x)"
      ]
    },
    {
      "cell_type": "code",
      "execution_count": 227,
      "metadata": {
        "colab": {
          "base_uri": "https://localhost:8080/"
        },
        "id": "4-L8hB-5TnrG",
        "outputId": "196f8888-cd5b-4682-bc60-b63391174599"
      },
      "outputs": [
        {
          "name": "stdout",
          "output_type": "stream",
          "text": [
            "('elma', 'muz', 'kivi', 'portakal')\n"
          ]
        }
      ],
      "source": [
        "meyveler = ('elma','muz','kivi')\n",
        "y = ('portakal',)                     #tek başına tuple oluşturmak için sonuna ',' eklenmelidir\n",
        "meyveler += y \n",
        "print(meyveler)"
      ]
    },
    {
      "cell_type": "code",
      "execution_count": 228,
      "metadata": {
        "colab": {
          "base_uri": "https://localhost:8080/"
        },
        "id": "FPtTlNYQn-n-",
        "outputId": "22dd111c-91f4-4a63-9a4e-9ccaa4bde75a"
      },
      "outputs": [
        {
          "name": "stdout",
          "output_type": "stream",
          "text": [
            "elma\n",
            "muz\n",
            "portakal\n"
          ]
        }
      ],
      "source": [
        "meyveler = ('elma','muz','portakal') #değişken sayısı demetteki elaman sayısına eşit olmalı.\n",
        "(kırmızı,sarı,turuncu) = meyveler\n",
        "print(kırmızı)\n",
        "print(sarı)\n",
        "print(turuncu)"
      ]
    },
    {
      "cell_type": "code",
      "execution_count": 229,
      "metadata": {
        "colab": {
          "base_uri": "https://localhost:8080/"
        },
        "id": "E9ayxYJEn-k5",
        "outputId": "6a90a91e-97f1-4438-9782-74c57c56d184"
      },
      "outputs": [
        {
          "name": "stdout",
          "output_type": "stream",
          "text": [
            "elma\n",
            "muz\n",
            "['portakal', 'kivi', 'üzüm']\n"
          ]
        }
      ],
      "source": [
        "meyveler =('elma','muz','portakal','kivi','üzüm') #değişken sayısı demetteki eleman sayısından fazla ise\n",
        "(kırmızı,sarı,*turuncu) = meyveler                #  '*'işareti ilen gösterilen değişken liste haline getirir\n",
        "print(kırmızı)\n",
        "print(sarı)\n",
        "print(turuncu)"
      ]
    },
    {
      "cell_type": "code",
      "execution_count": 230,
      "metadata": {
        "colab": {
          "base_uri": "https://localhost:8080/"
        },
        "id": "BGH4Antin-he",
        "outputId": "79501fc0-42ac-4cea-e621-14b5fc7adf55"
      },
      "outputs": [
        {
          "name": "stdout",
          "output_type": "stream",
          "text": [
            "elma\n",
            "üzüm\n",
            "muz\n"
          ]
        }
      ],
      "source": [
        "meyveler = {'elma','muz','üzüm'}       #set lere erişim böyledir.\n",
        "for x in meyveler:\n",
        "  print(x)"
      ]
    },
    {
      "cell_type": "code",
      "execution_count": 231,
      "metadata": {
        "colab": {
          "base_uri": "https://localhost:8080/"
        },
        "id": "5MW8upEZn-eA",
        "outputId": "5ce8ceec-091b-4e2f-d441-6c5f34aa3861"
      },
      "outputs": [
        {
          "name": "stdout",
          "output_type": "stream",
          "text": [
            "True\n"
          ]
        }
      ],
      "source": [
        "meyveler = {'elma','muz','üzüm'}      #setlerde istenilen değer varlığını kontrol etme.\n",
        "print('muz' in meyveler)"
      ]
    },
    {
      "cell_type": "code",
      "execution_count": 232,
      "metadata": {
        "colab": {
          "base_uri": "https://localhost:8080/"
        },
        "id": "fth40qMzn-WT",
        "outputId": "08d22551-7725-4bd1-8c38-3331f47411fc"
      },
      "outputs": [
        {
          "name": "stdout",
          "output_type": "stream",
          "text": [
            "{'elma', 'portakal', 'üzüm', 'muz'}\n"
          ]
        }
      ],
      "source": [
        "meyveler = {'elma','muz','üzüm'}\n",
        "meyveler.add('portakal')\n",
        "print(meyveler)"
      ]
    },
    {
      "cell_type": "code",
      "execution_count": 233,
      "metadata": {
        "colab": {
          "base_uri": "https://localhost:8080/"
        },
        "id": "zth7a3k_h4KF",
        "outputId": "83f5020e-5d43-488c-ede5-fee190e02dfd"
      },
      "outputs": [
        {
          "name": "stdout",
          "output_type": "stream",
          "text": [
            "{'kereviz', 'muz', 'elma', 'marul', 'soğan', 'üzüm'}\n"
          ]
        }
      ],
      "source": [
        "meyveler = {'elma','muz','üzüm'}         # setlere küme olarak ekleme yapıcaksak 'update' kulanılır set olmasına gerek yok.\n",
        "sebzeler =('marul','soğan','kereviz')\n",
        "meyveler.update(sebzeler)\n",
        "print(meyveler)"
      ]
    },
    {
      "cell_type": "code",
      "execution_count": 234,
      "metadata": {
        "colab": {
          "base_uri": "https://localhost:8080/"
        },
        "id": "AWZCooo7h37Y",
        "outputId": "476e6c80-0998-4685-ac02-c2f8e9a694dc"
      },
      "outputs": [
        {
          "name": "stdout",
          "output_type": "stream",
          "text": [
            "{'elma', 'üzüm'}\n"
          ]
        }
      ],
      "source": [
        "meyveler = {'elma','muz','üzüm'}\n",
        "meyveler.remove('muz')\n",
        "print(meyveler)"
      ]
    },
    {
      "cell_type": "code",
      "execution_count": 235,
      "metadata": {
        "colab": {
          "base_uri": "https://localhost:8080/"
        },
        "id": "wC9oNFUvbH2a",
        "outputId": "599b2bf2-ac61-43f0-b9a2-a0699a1766b2"
      },
      "outputs": [
        {
          "name": "stdout",
          "output_type": "stream",
          "text": [
            "{'elma', 'üzüm'}\n"
          ]
        }
      ],
      "source": [
        "meyveer = {'elma','muz','üzüm'}\n",
        "meyveler.discard('muz')\n",
        "print(meyveler)"
      ]
    },
    {
      "cell_type": "code",
      "execution_count": 236,
      "metadata": {
        "colab": {
          "base_uri": "https://localhost:8080/"
        },
        "id": "igZqxsSKbHzm",
        "outputId": "048bbfc1-62fe-42a8-ffc8-0a0546ae999d"
      },
      "outputs": [
        {
          "name": "stdout",
          "output_type": "stream",
          "text": [
            "set()\n"
          ]
        }
      ],
      "source": [
        "meyveler = {'elma','muz','üzüm'}\n",
        "meyveler.clear()\n",
        "print(meyveler)\n"
      ]
    },
    {
      "cell_type": "code",
      "execution_count": 237,
      "metadata": {
        "colab": {
          "base_uri": "https://localhost:8080/"
        },
        "id": "_f2ik7izb_VD",
        "outputId": "493a00f1-d389-4063-a12d-d19b123b54df"
      },
      "outputs": [
        {
          "name": "stdout",
          "output_type": "stream",
          "text": [
            "elma\n",
            "üzüm\n",
            "muz\n"
          ]
        }
      ],
      "source": [
        "meyveler = {'elma','muz','üzüm'}\n",
        "for x in meyveler:\n",
        "  print(x)"
      ]
    },
    {
      "cell_type": "code",
      "execution_count": 238,
      "metadata": {
        "colab": {
          "base_uri": "https://localhost:8080/"
        },
        "id": "gTVB1VDYcv0q",
        "outputId": "4a6b7614-3a6c-49b3-c511-c444d885f420"
      },
      "outputs": [
        {
          "name": "stdout",
          "output_type": "stream",
          "text": [
            "{'elma', 'portaka', 'muz', 'kivi', 'mandilina', 'üzüm'}\n"
          ]
        }
      ],
      "source": [
        "meyveler1 = {'elma','muz','üzüm'}\n",
        "meyveler2 = {'kivi','mandilina','portaka'}\n",
        "meyveler = meyveler1.union(meyveler2)\n",
        "print(meyveler)"
      ]
    },
    {
      "cell_type": "code",
      "execution_count": 239,
      "metadata": {
        "colab": {
          "base_uri": "https://localhost:8080/"
        },
        "id": "KaWFQtnzf2Gk",
        "outputId": "624528b1-04ee-44d4-9ec3-2caa085be50c"
      },
      "outputs": [
        {
          "name": "stdout",
          "output_type": "stream",
          "text": [
            "{'elma', 'portaka', 'muz', 'kivi', 'mandilina', 'üzüm'}\n"
          ]
        }
      ],
      "source": [
        "meyveer1 = {'elma','muz','üzüm'}\n",
        "meyveler = {'kivi','mandilina','portakal'}\n",
        "meyveler1.update(meyveler2)\n",
        "print(meyveler1)"
      ]
    },
    {
      "cell_type": "code",
      "execution_count": 240,
      "metadata": {
        "colab": {
          "base_uri": "https://localhost:8080/"
        },
        "id": "6z9Y9VCFf1xc",
        "outputId": "5cf227d1-c9af-42e6-9bcd-8239ae007b7e"
      },
      "outputs": [
        {
          "name": "stdout",
          "output_type": "stream",
          "text": [
            "{'elma'}\n"
          ]
        }
      ],
      "source": [
        "meyveler1 = {'elma','muz','üzüm'}                  #iki set te de ortak olanı yazar\n",
        "meyveler2 = {'portakal','elma'}\n",
        "meyveler1.intersection_update(meyveler2)\n",
        "print(meyveler1)"
      ]
    },
    {
      "cell_type": "code",
      "execution_count": 241,
      "metadata": {
        "colab": {
          "base_uri": "https://localhost:8080/"
        },
        "id": "OzVw3OUmf1uY",
        "outputId": "2be8f31d-2fe7-4a10-c7c6-790105cdee8f"
      },
      "outputs": [
        {
          "name": "stdout",
          "output_type": "stream",
          "text": [
            "{'üzüm', 'muz', 'portakal', 'kivi'}\n"
          ]
        }
      ],
      "source": [
        "meyveler1 = {'elma','muz','üzüm'}                   #setlerin birbirlerinde ortak olmayanları yazar\n",
        "meyveler2 = {'elma','portakal','kivi'}\n",
        "meyveler1.symmetric_difference_update(meyveler2)\n",
        "print(meyveler1)"
      ]
    },
    {
      "cell_type": "code",
      "execution_count": 242,
      "metadata": {
        "colab": {
          "base_uri": "https://localhost:8080/"
        },
        "id": "pISaHBhSf1q1",
        "outputId": "7c823d7c-e98c-4ec0-c877-b15a3d234f50"
      },
      "outputs": [
        {
          "name": "stdout",
          "output_type": "stream",
          "text": [
            "{'marka': 'opel', 'model': 'astra', 'yıl': '2016'}\n"
          ]
        }
      ],
      "source": [
        "araba = {\n",
        "    \"marka\":\"opel\",\n",
        "    \"model\":\"astra\",\n",
        "    \"yıl\":\"2016\"\n",
        "}\n",
        "print(araba)"
      ]
    },
    {
      "cell_type": "code",
      "execution_count": 243,
      "metadata": {
        "colab": {
          "base_uri": "https://localhost:8080/"
        },
        "id": "tBBDaxV982nc",
        "outputId": "07cc8e68-63ed-4a04-e1d4-33b1b5042e30"
      },
      "outputs": [
        {
          "name": "stdout",
          "output_type": "stream",
          "text": [
            "2016\n"
          ]
        }
      ],
      "source": [
        "araba = {\n",
        "    \"marka\":\"opel\",\n",
        "    \"model\":\"astra\",\n",
        "    \"yıl\":\"2016\"\n",
        "}\n",
        "print(araba[\"yıl\"])"
      ]
    },
    {
      "cell_type": "code",
      "execution_count": 244,
      "metadata": {
        "colab": {
          "base_uri": "https://localhost:8080/"
        },
        "id": "-p6Cg4Z082kq",
        "outputId": "fbcec14f-09f1-43e2-913b-fa543cd1646b"
      },
      "outputs": [
        {
          "name": "stdout",
          "output_type": "stream",
          "text": [
            "{'marka': 'opel', 'model': 'astra', 'yıl': '2016'}\n"
          ]
        }
      ],
      "source": [
        "araba = {\n",
        "    \"marka\":\"opel\",\n",
        "    \"model\":\"astra\",\n",
        "    \"yıl\":\"2013\",              # sözlükte yinelenen değeri son olanı alır\n",
        "    \"yıl\":\"2016\"\n",
        "}\n",
        "print(araba)"
      ]
    },
    {
      "cell_type": "code",
      "execution_count": 245,
      "metadata": {
        "colab": {
          "base_uri": "https://localhost:8080/"
        },
        "id": "6ZwxUOBQ-uG1",
        "outputId": "16b18a4a-ca31-4842-abe7-b97cfb412f6c"
      },
      "outputs": [
        {
          "name": "stdout",
          "output_type": "stream",
          "text": [
            "<class 'dict'>\n"
          ]
        }
      ],
      "source": [
        "araba = {\n",
        "    \"marka\":\"opel\",\n",
        "    \"model\":\"astra\",         # sözlükler dict tipine sahiptir\n",
        "    \"yıl\":\"2016\"\n",
        "}\n",
        "print(type(araba))"
      ]
    },
    {
      "cell_type": "code",
      "execution_count": 246,
      "metadata": {
        "colab": {
          "base_uri": "https://localhost:8080/"
        },
        "id": "oKqfXyt9-uEN",
        "outputId": "35a7f5c8-d4e1-410d-d0e4-fe104fb45e73"
      },
      "outputs": [
        {
          "name": "stdout",
          "output_type": "stream",
          "text": [
            "opel\n"
          ]
        }
      ],
      "source": [
        "araba = {\n",
        "    \"marka\":\"opel\",              #sözlükten değer alma\n",
        "    \"model\":\"astra\",\n",
        "    \"yıl\":\"2016\"\n",
        "}\n",
        "x = araba[\"marka\"]\n",
        "print(x)"
      ]
    },
    {
      "cell_type": "code",
      "execution_count": 247,
      "metadata": {
        "colab": {
          "base_uri": "https://localhost:8080/"
        },
        "id": "ycOrN08--uBA",
        "outputId": "b99d196f-35fc-4f76-85a9-f92cdb226b5c"
      },
      "outputs": [
        {
          "name": "stdout",
          "output_type": "stream",
          "text": [
            "dict_keys(['marka', 'model', 'yıl'])\n"
          ]
        }
      ],
      "source": [
        "araba = {\n",
        "    \"marka\":\"opel\",              #sözlüklerin anahtar kelimelerini 'keys' komutuyla öğrene biliriz\n",
        "    \"model\":\"astra\",\n",
        "    \"yıl\":\"2016\"\n",
        "}\n",
        "x = araba.keys()\n",
        "print(x)"
      ]
    },
    {
      "cell_type": "code",
      "execution_count": 248,
      "metadata": {
        "colab": {
          "base_uri": "https://localhost:8080/"
        },
        "id": "BSzFBWOo-t9W",
        "outputId": "497d03cf-0da3-4b3f-a0a5-6e950abacd3b"
      },
      "outputs": [
        {
          "name": "stdout",
          "output_type": "stream",
          "text": [
            "dict_keys(['marka', 'model', 'yıl'])\n",
            "dict_keys(['marka', 'model', 'yıl', 'renk'])\n"
          ]
        }
      ],
      "source": [
        "araba = {\n",
        "    \"marka\":\"opel\",\n",
        "    \"model\":\"astra\",\n",
        "    \"yıl\":\"2016\"                           #sözlüğe anahtar kelime ekleme\n",
        "}\n",
        "x = araba.keys()\n",
        "print(x)\n",
        "araba[\"renk\"] = \"siyah\"\n",
        "print(x)"
      ]
    },
    {
      "cell_type": "code",
      "execution_count": 249,
      "metadata": {
        "colab": {
          "base_uri": "https://localhost:8080/"
        },
        "id": "vsq2ruILYj6d",
        "outputId": "b80aa598-d81d-48c4-a481-7c9d79875d61"
      },
      "outputs": [
        {
          "name": "stdout",
          "output_type": "stream",
          "text": [
            "{'marka': 'opel', 'model': 'astra', 'yıl': 2016}\n"
          ]
        }
      ],
      "source": [
        "araba = {\n",
        "    \"marka\":\"opel\",\n",
        "    \"model\":\"astra\",                   \n",
        "    \"yıl\":1998\n",
        "}\n",
        "araba[\"yıl\"] = 2016\n",
        "print(araba)"
      ]
    },
    {
      "cell_type": "code",
      "execution_count": 250,
      "metadata": {
        "colab": {
          "base_uri": "https://localhost:8080/"
        },
        "id": "r8QP3gMm-t5d",
        "outputId": "bcbbd9f1-f023-4d55-f196-b2608a5d7e2c"
      },
      "outputs": [
        {
          "name": "stdout",
          "output_type": "stream",
          "text": [
            "{'marka': 'opel', 'model': 'astra', 'yıl': 2016}\n"
          ]
        }
      ],
      "source": [
        "araba = {\n",
        "    \"marka\":\"opel\",\n",
        "    \"model\":\"astra\",\n",
        "    \"yıl\":1998\n",
        "}\n",
        "araba.update({\"yıl\":2016})\n",
        "print(araba)"
      ]
    },
    {
      "cell_type": "code",
      "execution_count": 251,
      "metadata": {
        "colab": {
          "base_uri": "https://localhost:8080/"
        },
        "id": "39l9bTYcbofm",
        "outputId": "9aba4ec9-ffb4-468e-802f-dc8903cd177f"
      },
      "outputs": [
        {
          "name": "stdout",
          "output_type": "stream",
          "text": [
            "{'marka': 'opel', 'model': 'astra', 'yıl': 2016, 'renk': 'siyah'}\n"
          ]
        }
      ],
      "source": [
        "araba = {\n",
        "    \"marka\":\"opel\",\n",
        "    \"model\":\"astra\",\n",
        "    \"yıl\":2016\n",
        "}\n",
        "araba.update({\"renk\":\"siyah\"})\n",
        "print(araba)"
      ]
    },
    {
      "cell_type": "code",
      "execution_count": 252,
      "metadata": {
        "colab": {
          "base_uri": "https://localhost:8080/"
        },
        "id": "KXH4IOeDbobx",
        "outputId": "0e9e804c-d3c4-4c79-bd58-894d7a178761"
      },
      "outputs": [
        {
          "name": "stdout",
          "output_type": "stream",
          "text": [
            "{'marka': 'opel', 'yıl': 2016}\n"
          ]
        }
      ],
      "source": [
        "araba ={\n",
        "    \"marka\":\"opel\",\n",
        "    \"model\":\"astra\",\n",
        "    \"yıl\":2016\n",
        "}\n",
        "araba.pop(\"model\")\n",
        "print(araba)"
      ]
    },
    {
      "cell_type": "code",
      "execution_count": 253,
      "metadata": {
        "colab": {
          "base_uri": "https://localhost:8080/"
        },
        "id": "oJAnVEFQboYU",
        "outputId": "32144bf2-c0e5-404e-95a0-8fbcd37b0578"
      },
      "outputs": [
        {
          "name": "stdout",
          "output_type": "stream",
          "text": [
            "{'model': 'astra', 'yıl': 2016}\n"
          ]
        }
      ],
      "source": [
        "araba = {\n",
        "    \"marka\":\"opel\",            #'del' kelimesi ilen tüm sözlüğü de silebiirsiniz.\n",
        "    \"model\":\"astra\",\n",
        "    \"yıl\": 2016\n",
        "}\n",
        "del araba[\"marka\"]\n",
        "print(araba)"
      ]
    },
    {
      "cell_type": "code",
      "execution_count": 254,
      "metadata": {
        "colab": {
          "base_uri": "https://localhost:8080/"
        },
        "id": "Hu6gMi_qePSC",
        "outputId": "ede3d104-9646-47e3-8a8e-4c01fc80b443"
      },
      "outputs": [
        {
          "name": "stdout",
          "output_type": "stream",
          "text": [
            "{}\n"
          ]
        }
      ],
      "source": [
        "araba = {\n",
        "    \"marka\":\"opel\",                   #'clear' kelimesi ilen sözlüğü boşalta bilirsiniz\n",
        "    \"model\":\"astra\",\n",
        "    \"yıl\":2016\n",
        "}\n",
        "araba.clear()\n",
        "print(araba)"
      ]
    },
    {
      "cell_type": "code",
      "execution_count": 255,
      "metadata": {
        "colab": {
          "base_uri": "https://localhost:8080/"
        },
        "id": "3ot2BxK_ePPP",
        "outputId": "ccfb8055-0165-4084-a1a6-e1592ac28c41"
      },
      "outputs": [
        {
          "name": "stdout",
          "output_type": "stream",
          "text": [
            "marka\n",
            "model\n",
            "yıl\n"
          ]
        }
      ],
      "source": [
        "araba = {\n",
        "    \"marka\":\"opel\",                  # sözlüğün anahtar kelimelerini döndürür\n",
        "    \"model\":\"astra\",\n",
        "    \"yıl\": 2016\n",
        "}\n",
        "for x in araba:\n",
        " print(x)"
      ]
    },
    {
      "cell_type": "code",
      "execution_count": 256,
      "metadata": {
        "colab": {
          "base_uri": "https://localhost:8080/"
        },
        "id": "40vfxEX6ePMX",
        "outputId": "c03bd094-d029-441d-c9ec-3710a5fedb93"
      },
      "outputs": [
        {
          "name": "stdout",
          "output_type": "stream",
          "text": [
            "opel\n",
            "astra\n",
            "2016\n"
          ]
        }
      ],
      "source": [
        "araba = {\n",
        "    \"marka\":\"opel\",                #sözlüklerin değerlerini de döndürmek mümkün\n",
        "    \"model\":\"astra\",\n",
        "    \"yıl\":2016\n",
        "}\n",
        "for x in araba:\n",
        "  print(araba[x])"
      ]
    },
    {
      "cell_type": "code",
      "execution_count": 257,
      "metadata": {
        "colab": {
          "base_uri": "https://localhost:8080/"
        },
        "id": "PdolNgCuePJC",
        "outputId": "e2a2ece2-398d-44e1-91a4-dca502693e0b"
      },
      "outputs": [
        {
          "name": "stdout",
          "output_type": "stream",
          "text": [
            "opel\n",
            "astra\n",
            "2016\n"
          ]
        }
      ],
      "source": [
        "araba = {\n",
        "    \"marka\":\"opel\",              #sözlükteki değerleri 'values' kelimesi ilende döndüre biliriz\n",
        "    \"model\":\"astra\",\n",
        "    \"yıl\":2016\n",
        "}\n",
        "for x in araba.values():\n",
        "  print(x)"
      ]
    },
    {
      "cell_type": "code",
      "execution_count": 258,
      "metadata": {
        "colab": {
          "base_uri": "https://localhost:8080/"
        },
        "id": "9bLE61YQePF7",
        "outputId": "0ea3c51b-e16d-4621-e83d-bdc82b5a47db"
      },
      "outputs": [
        {
          "name": "stdout",
          "output_type": "stream",
          "text": [
            "marka\n",
            "model\n",
            "yıl\n"
          ]
        }
      ],
      "source": [
        "araba = {\n",
        "    \"marka\":\"opel\",             #sözlüklerin anahtar kelimelerini 'keys' sözlüğüylen de döndüre biliriz \n",
        "    \"model\":\"astra\",\n",
        "    \"yıl\":2016\n",
        "}\n",
        "for x in araba.keys():\n",
        "  print(x)"
      ]
    },
    {
      "cell_type": "code",
      "execution_count": 259,
      "metadata": {
        "colab": {
          "base_uri": "https://localhost:8080/"
        },
        "id": "bynzG-eBePCo",
        "outputId": "9c6bd54a-d7a6-4481-fc67-91121272a005"
      },
      "outputs": [
        {
          "name": "stdout",
          "output_type": "stream",
          "text": [
            "marka opel\n",
            "model astra\n",
            "yıl 2016\n"
          ]
        }
      ],
      "source": [
        "araba = {                                #sözlükleri anahtar ve değerleriylen döndürmek için 'items' keimesi kullanılır\n",
        "    \"marka\":\"opel\",\n",
        "    \"model\":\"astra\",\n",
        "    \"yıl\":2016\n",
        "}\n",
        "for x,y in araba.items():\n",
        " print(x,y)"
      ]
    },
    {
      "cell_type": "code",
      "execution_count": 260,
      "metadata": {
        "colab": {
          "base_uri": "https://localhost:8080/"
        },
        "id": "WPWFGawhk5Nc",
        "outputId": "3f0b2c2e-60c6-4dac-9df3-d293205cde1c"
      },
      "outputs": [
        {
          "name": "stdout",
          "output_type": "stream",
          "text": [
            "{'marka': 'opel', 'model': 'astra', 'yıl': 2016}\n"
          ]
        }
      ],
      "source": [
        "araba = {\n",
        "    \"marka\":\"opel\",                           #sözüğü kopyalama için 'copy' kelimesi kulanılır\n",
        "    \"model\":\"astra\",\n",
        "    \"yıl\":2016\n",
        "}\n",
        "arabam = araba.copy()\n",
        "print(arabam)"
      ]
    },
    {
      "cell_type": "code",
      "execution_count": 261,
      "metadata": {
        "colab": {
          "base_uri": "https://localhost:8080/"
        },
        "id": "SqI0tWr9k5J4",
        "outputId": "c62c528c-1e11-4095-aa63-b89211997e17"
      },
      "outputs": [
        {
          "name": "stdout",
          "output_type": "stream",
          "text": [
            "{'marka': 'opel', 'model': 'astra', 'yıl': 2016}\n"
          ]
        }
      ],
      "source": [
        "araba = {\n",
        "    \"marka\":\"opel\",                         # sözlüğü kopyalamak için 'dict' kelimesi de kullanılabilir\n",
        "    \"model\":\"astra\",\n",
        "    \"yıl\":2016\n",
        "}\n",
        "arabam = dict(araba)\n",
        "print(arabam)"
      ]
    },
    {
      "cell_type": "code",
      "execution_count": 262,
      "metadata": {
        "colab": {
          "base_uri": "https://localhost:8080/"
        },
        "id": "Mk_x7Fjgk5Gh",
        "outputId": "7dc67932-bc9c-43b2-809e-2f5888fce84d"
      },
      "outputs": [
        {
          "name": "stdout",
          "output_type": "stream",
          "text": [
            "{'ilki': {'marka': 'opel', 'model': 'astra', 'yıl': 2016}, 'ikincisi': {'marka': 'toyata', 'model': 'corola', 'yıl': 2008}, 'üçüncüsü': {'marka': 'reno', 'model': 2017}}\n"
          ]
        }
      ],
      "source": [
        "arabalarım = {\n",
        "    \"ilki\" :{\n",
        "        \"marka\":\"opel\",\n",
        "        \"model\":\"astra\",\n",
        "        \"yıl\":2016\n",
        "    },\n",
        "    \"ikincisi\" :{\n",
        "        \"marka\":\"toyata\",\n",
        "        \"model\":\"corola\",\n",
        "        \"yıl\":2008\n",
        "    },\n",
        "    \"üçüncüsü\":{\n",
        "        \"marka\":\"reno\",\n",
        "        \"model\":\"clio\",\n",
        "        \"model\":2017\n",
        "    }\n",
        "}\n",
        "print(arabalarım)"
      ]
    },
    {
      "cell_type": "code",
      "execution_count": 263,
      "metadata": {
        "colab": {
          "base_uri": "https://localhost:8080/"
        },
        "id": "I6yc6RPsk5Dr",
        "outputId": "29e61084-1b14-48e3-e520-e4fb4f628885"
      },
      "outputs": [
        {
          "name": "stdout",
          "output_type": "stream",
          "text": [
            "b'büyüktür a' dan\n"
          ]
        }
      ],
      "source": [
        "a = 33\n",
        "b = 200\n",
        "if b > a:\n",
        "  print(\"b'büyüktür a' dan\")"
      ]
    },
    {
      "cell_type": "code",
      "execution_count": 264,
      "metadata": {
        "colab": {
          "base_uri": "https://localhost:8080/"
        },
        "id": "93-sCNRrk5BU",
        "outputId": "868fefd2-42e6-45bb-fe06-bd612f1686e8"
      },
      "outputs": [
        {
          "name": "stdout",
          "output_type": "stream",
          "text": [
            "b'eşittir a'ya\n"
          ]
        }
      ],
      "source": [
        "a = input(int())\n",
        "b = input(int())\n",
        "if b > a:\n",
        "  print(\"b'büyüktür a'dan\")\n",
        "elif a == b:\n",
        "  print(\"b'eşittir a'ya\")\n",
        "else:\n",
        "  print(\"a'büyüktür b'den\")\n"
      ]
    },
    {
      "cell_type": "code",
      "execution_count": 265,
      "metadata": {
        "colab": {
          "base_uri": "https://localhost:8080/"
        },
        "id": "OTmRJ5yhP7rR",
        "outputId": "1ace300f-9ad9-4c47-fc77-401d7be1781f"
      },
      "outputs": [
        {
          "name": "stdout",
          "output_type": "stream",
          "text": [
            "1\n",
            "2\n",
            "3\n",
            "4\n",
            "5\n"
          ]
        }
      ],
      "source": [
        "i = 1\n",
        "while i < 6:                            #dögü yapmak için while kelimesi kulanılır\n",
        "  print(i)\n",
        "  i+=1"
      ]
    },
    {
      "cell_type": "code",
      "execution_count": 266,
      "metadata": {
        "colab": {
          "base_uri": "https://localhost:8080/"
        },
        "id": "1rcg_Ys8P7og",
        "outputId": "5a03f2b5-9491-47f5-aa53-63936a940e66"
      },
      "outputs": [
        {
          "name": "stdout",
          "output_type": "stream",
          "text": [
            "1\n",
            "2\n",
            "3\n"
          ]
        }
      ],
      "source": [
        "i=1\n",
        "while i<6:                         #döngüde bir ifadeye kadar yazdırmak için şekildeki gibi kullanılır\n",
        "  print(i)\n",
        "  if i==3:\n",
        "    break\n",
        "  i+=1\n",
        "  "
      ]
    },
    {
      "cell_type": "code",
      "execution_count": 267,
      "metadata": {
        "colab": {
          "base_uri": "https://localhost:8080/"
        },
        "id": "xkUV5091P7lQ",
        "outputId": "eb60caca-c709-490f-df1d-c4a6d92e52ad"
      },
      "outputs": [
        {
          "name": "stdout",
          "output_type": "stream",
          "text": [
            "1\n",
            "2\n",
            "4\n",
            "5\n",
            "6\n"
          ]
        }
      ],
      "source": [
        "i=0                                       #döngüdeki bir ifadeyi atlamak için şekildeki gibi kullanılır\n",
        "while i<6:                             \n",
        "  i+=1\n",
        "  if i==3:\n",
        "    continue\n",
        "  print(i)"
      ]
    },
    {
      "cell_type": "code",
      "execution_count": 268,
      "metadata": {
        "colab": {
          "base_uri": "https://localhost:8080/"
        },
        "id": "rJ8oheXHP7iN",
        "outputId": "6b73b890-6c5a-4070-b91d-e5f8cd23e242"
      },
      "outputs": [
        {
          "name": "stdout",
          "output_type": "stream",
          "text": [
            "1\n",
            "2\n",
            "3\n",
            "4\n",
            "5\n",
            "6\n",
            "i'büyüktür b'den\n"
          ]
        }
      ],
      "source": [
        "i=0                                  #döngü bittikten sonra birşey yazdırmak için  else kullanılır\n",
        "while i<6:\n",
        "  i+=1\n",
        "  print(i)\n",
        "else:\n",
        "  print(\"i'büyüktür b'den\")"
      ]
    },
    {
      "cell_type": "code",
      "execution_count": 269,
      "metadata": {
        "colab": {
          "base_uri": "https://localhost:8080/"
        },
        "id": "8-gjXXg9P7et",
        "outputId": "4e30d2de-ca03-4afb-f795-5530d16e1344"
      },
      "outputs": [
        {
          "name": "stdout",
          "output_type": "stream",
          "text": [
            "elma\n",
            "muz\n",
            "kivi\n"
          ]
        }
      ],
      "source": [
        "meyveler = [\"elma\",\"muz\",\"kivi\"]                  #listeleri döngü yapmak için for kullanılır\n",
        "for x in meyveler:\n",
        "  print(x)"
      ]
    },
    {
      "cell_type": "code",
      "execution_count": 270,
      "metadata": {
        "colab": {
          "base_uri": "https://localhost:8080/"
        },
        "id": "-A12D1gQnTHZ",
        "outputId": "40a28702-5366-4cd3-9c8f-9a06ec25f656"
      },
      "outputs": [
        {
          "name": "stdout",
          "output_type": "stream",
          "text": [
            "m\n",
            "e\n",
            "y\n",
            "v\n",
            "e\n"
          ]
        }
      ],
      "source": [
        "for a in \"meyve\":                               #str nin içini dögülemek içinde kulanılır\n",
        "  print(a)"
      ]
    },
    {
      "cell_type": "code",
      "execution_count": 271,
      "metadata": {
        "colab": {
          "base_uri": "https://localhost:8080/"
        },
        "id": "BOAKo19hnmf9",
        "outputId": "c9a5fd45-ecc0-4207-a5cb-24d3c60834c5"
      },
      "outputs": [
        {
          "name": "stdout",
          "output_type": "stream",
          "text": [
            "elma\n",
            "muz\n",
            "kivi\n"
          ]
        }
      ],
      "source": [
        "meyveler = [\"elma\",\"muz\",\"kivi\",\"üzüm\"]\n",
        "for x in meyveler:\n",
        "  print(x)\n",
        "  if x == \"kivi\":\n",
        "    break "
      ]
    },
    {
      "cell_type": "code",
      "execution_count": 272,
      "metadata": {
        "colab": {
          "base_uri": "https://localhost:8080/"
        },
        "id": "yy-ilraBnmX3",
        "outputId": "ec305543-36e2-4078-ed63-285ae849a97c"
      },
      "outputs": [
        {
          "name": "stdout",
          "output_type": "stream",
          "text": [
            "elma\n",
            "muz\n",
            "üzüm\n"
          ]
        }
      ],
      "source": [
        "meyveler = [\"elma\",\"muz\",\"kivi\",\"üzüm\"]\n",
        "for x in meyveler:\n",
        "  if x == \"kivi\":\n",
        "    continue\n",
        "  print(x)"
      ]
    },
    {
      "cell_type": "code",
      "execution_count": 273,
      "metadata": {
        "colab": {
          "base_uri": "https://localhost:8080/"
        },
        "id": "alNjNVSGnmT0",
        "outputId": "f4cc2aa6-0694-4db0-d8e8-6f45517626ef"
      },
      "outputs": [
        {
          "name": "stdout",
          "output_type": "stream",
          "text": [
            "0\n",
            "1\n",
            "2\n",
            "3\n",
            "4\n",
            "5\n"
          ]
        }
      ],
      "source": [
        "for x in range(6):\n",
        "  print(x)"
      ]
    },
    {
      "cell_type": "code",
      "execution_count": 274,
      "metadata": {
        "colab": {
          "base_uri": "https://localhost:8080/"
        },
        "id": "XqvPr3nTnmOg",
        "outputId": "3b84dba7-30c4-44e6-b291-fb72ac57494c"
      },
      "outputs": [
        {
          "name": "stdout",
          "output_type": "stream",
          "text": [
            "2\n",
            "3\n",
            "4\n",
            "5\n"
          ]
        }
      ],
      "source": [
        "for x in range(2,6):\n",
        "  print(x)"
      ]
    },
    {
      "cell_type": "code",
      "execution_count": 275,
      "metadata": {
        "colab": {
          "base_uri": "https://localhost:8080/"
        },
        "id": "R7cCmhiHqVuQ",
        "outputId": "e987b4c7-be55-4fb6-dc6f-c9b875c141b4"
      },
      "outputs": [
        {
          "name": "stdout",
          "output_type": "stream",
          "text": [
            "2\n",
            "5\n",
            "8\n",
            "11\n",
            "14\n",
            "17\n",
            "20\n",
            "23\n",
            "26\n",
            "29\n"
          ]
        }
      ],
      "source": [
        "for x in range(2,30,3):\n",
        "  print(x)"
      ]
    },
    {
      "cell_type": "code",
      "execution_count": 276,
      "metadata": {
        "colab": {
          "base_uri": "https://localhost:8080/"
        },
        "id": "7e9wFWTIqqUa",
        "outputId": "3d4ffcdc-0038-499b-841a-a5a15d70b35a"
      },
      "outputs": [
        {
          "name": "stdout",
          "output_type": "stream",
          "text": [
            "0\n",
            "1\n",
            "2\n",
            "3\n",
            "4\n",
            "4 ten büyük\n"
          ]
        }
      ],
      "source": [
        "for x in range(5):\n",
        "  print(x)\n",
        "else:\n",
        "  print(\"4 ten büyük\")"
      ]
    },
    {
      "cell_type": "code",
      "execution_count": 277,
      "metadata": {
        "colab": {
          "base_uri": "https://localhost:8080/"
        },
        "id": "tFSu24VmqqPH",
        "outputId": "3b8db8c5-f1ca-44aa-f2a1-92e6729ade4d"
      },
      "outputs": [
        {
          "name": "stdout",
          "output_type": "stream",
          "text": [
            "kırmızı elma\n",
            "kırmızı muz\n",
            "kırmızı portakal\n",
            "sarı elma\n",
            "sarı muz\n",
            "sarı portakal\n",
            "turuncu elma\n",
            "turuncu muz\n",
            "turuncu portakal\n"
          ]
        }
      ],
      "source": [
        "renkler = [\"kırmızı\",\"sarı\",\"turuncu\"]\n",
        "meyveler = [\"elma\",\"muz\",\"portakal\"]\n",
        "for x in renkler:\n",
        "  for y in meyveler:\n",
        "    print(x,y)"
      ]
    },
    {
      "cell_type": "code",
      "execution_count": 278,
      "metadata": {
        "colab": {
          "base_uri": "https://localhost:8080/"
        },
        "id": "StxHPdpwsp01",
        "outputId": "37f6cce1-9e2d-4f20-e2dc-cc6191812542"
      },
      "outputs": [],
      "source": [
        "def benim_fonksiyonum():\n",
        "  print(\"fonksiyonum\")               #fonksiyon kurup başka yerde kulana bilirim"
      ]
    },
    {
      "cell_type": "code",
      "execution_count": 279,
      "metadata": {
        "colab": {
          "base_uri": "https://localhost:8080/"
        },
        "id": "GmT7PWwjuqgG",
        "outputId": "dfdd629e-fe59-40e1-88ee-f5550a5e1d36"
      },
      "outputs": [
        {
          "name": "stdout",
          "output_type": "stream",
          "text": [
            "fonksiyonum\n"
          ]
        }
      ],
      "source": [
        "benim_fonksiyonum()"
      ]
    },
    {
      "cell_type": "code",
      "execution_count": 280,
      "metadata": {
        "colab": {
          "base_uri": "https://localhost:8080/"
        },
        "id": "8CgUxq1iuqbO",
        "outputId": "2b03f174-dc8d-47ba-b478-0caedb6be279"
      },
      "outputs": [
        {
          "name": "stdout",
          "output_type": "stream",
          "text": [
            "elma refsnes\n",
            "armut refsnes\n",
            "muz refsnes\n"
          ]
        }
      ],
      "source": [
        "def benim_fonksiyonum(fname):\n",
        "  print(fname +\"refsnes\")\n",
        "\n",
        "benim_fonksiyonum(\"elma \")\n",
        "benim_fonksiyonum(\"armut \")\n",
        "benim_fonksiyonum(\"muz \")"
      ]
    },
    {
      "cell_type": "code",
      "execution_count": 281,
      "metadata": {
        "colab": {
          "base_uri": "https://localhost:8080/"
        },
        "id": "hm0cA2AOuqYC",
        "outputId": "1a7ae384-11cc-490c-8973-9322225e7855"
      },
      "outputs": [
        {
          "name": "stdout",
          "output_type": "stream",
          "text": [
            "elma armut\n"
          ]
        }
      ],
      "source": [
        "def benim_fonksiyonum(fname,lname):\n",
        "  print(fname + \" \" +lname)\n",
        "\n",
        "benim_fonksiyonum(\"elma\",\"armut\")"
      ]
    },
    {
      "cell_type": "code",
      "execution_count": 282,
      "metadata": {
        "colab": {
          "base_uri": "https://localhost:8080/"
        },
        "id": "dHvnqwH9_EPF",
        "outputId": "1bed95cf-11e2-4870-8d2c-3c4e24d68627"
      },
      "outputs": [
        {
          "name": "stdout",
          "output_type": "stream",
          "text": [
            "meyve muz\n"
          ]
        }
      ],
      "source": [
        "def benim_fonksiyonum(*kids):\n",
        "  print(\"meyve \"+ kids[2])\n",
        "\n",
        "benim_fonksiyonum(\"elma\",\"armut\",\"muz\",\"kivi\")"
      ]
    },
    {
      "cell_type": "markdown",
      "metadata": {},
      "source": [
        "Python Arrays"
      ]
    },
    {
      "cell_type": "code",
      "execution_count": 283,
      "metadata": {
        "id": "_KEkZai6_EL1"
      },
      "outputs": [],
      "source": [
        "cars = [\"Ford\",\"Volvo\",\"Bmv\"]"
      ]
    },
    {
      "cell_type": "code",
      "execution_count": 284,
      "metadata": {
        "id": "GPpH_440_EIH"
      },
      "outputs": [
        {
          "data": {
            "text/plain": [
              "'Ford'"
            ]
          },
          "execution_count": 284,
          "metadata": {},
          "output_type": "execute_result"
        }
      ],
      "source": [
        "x = cars[0]\n",
        "x"
      ]
    },
    {
      "cell_type": "code",
      "execution_count": 285,
      "metadata": {
        "id": "y3qbKBaZ_EDk"
      },
      "outputs": [],
      "source": [
        "cars[0] = \"Toyota\""
      ]
    },
    {
      "cell_type": "code",
      "execution_count": 286,
      "metadata": {},
      "outputs": [],
      "source": [
        "c = len(cars)"
      ]
    },
    {
      "cell_type": "code",
      "execution_count": 287,
      "metadata": {},
      "outputs": [
        {
          "name": "stdout",
          "output_type": "stream",
          "text": [
            "Toyota\n",
            "Volvo\n",
            "Bmv\n"
          ]
        }
      ],
      "source": [
        "for d in cars:\n",
        "    print(d)"
      ]
    },
    {
      "cell_type": "code",
      "execution_count": 288,
      "metadata": {},
      "outputs": [
        {
          "data": {
            "text/plain": [
              "['Toyota', 'Volvo', 'Bmv', 'Honda']"
            ]
          },
          "execution_count": 288,
          "metadata": {},
          "output_type": "execute_result"
        }
      ],
      "source": [
        "cars.append(\"Honda\")\n",
        "cars"
      ]
    },
    {
      "cell_type": "code",
      "execution_count": 289,
      "metadata": {},
      "outputs": [
        {
          "data": {
            "text/plain": [
              "['Toyota', 'Bmv', 'Honda']"
            ]
          },
          "execution_count": 289,
          "metadata": {},
          "output_type": "execute_result"
        }
      ],
      "source": [
        "#belirtilen indexeteki değişkeni listeden çıkartıyor.\n",
        "cars.pop(1)\n",
        "cars"
      ]
    },
    {
      "cell_type": "code",
      "execution_count": 291,
      "metadata": {},
      "outputs": [
        {
          "data": {
            "text/plain": [
              "['Toyota', 'Honda']"
            ]
          },
          "execution_count": 291,
          "metadata": {},
          "output_type": "execute_result"
        }
      ],
      "source": [
        "# belirtilen değişkeni listeden çıkartır.\n",
        "cars.remove(\"Bmv\")\n",
        "cars"
      ]
    },
    {
      "cell_type": "markdown",
      "metadata": {},
      "source": [
        "Python Classes and Objects"
      ]
    },
    {
      "cell_type": "code",
      "execution_count": 296,
      "metadata": {},
      "outputs": [
        {
          "name": "stdout",
          "output_type": "stream",
          "text": [
            "<class '__main__.MyClass'>\n"
          ]
        }
      ],
      "source": [
        "class MyClass:\n",
        "    x =5\n",
        "print(MyClass)"
      ]
    },
    {
      "cell_type": "code",
      "execution_count": 294,
      "metadata": {},
      "outputs": [
        {
          "name": "stdout",
          "output_type": "stream",
          "text": [
            "5\n"
          ]
        }
      ],
      "source": [
        "p1 = MyClass()\n",
        "print(p1.x)"
      ]
    },
    {
      "cell_type": "code",
      "execution_count": 297,
      "metadata": {},
      "outputs": [
        {
          "name": "stdout",
          "output_type": "stream",
          "text": [
            "hello my name is john\n"
          ]
        }
      ],
      "source": [
        "# person adında bir nesne oluşturdum ve name, age adında özelliklerimiz var p1 değişkenine person nesnemizin özelliklerini giriyoruz ve print ile yazdırıyoruz.\n",
        "class Person:\n",
        "    def __init__(self,name,age):\n",
        "        self.name = name\n",
        "        self.age = age\n",
        "\n",
        "    def myfunc(self):\n",
        "        print(\"hello my name is \" + self.name)\n",
        "\n",
        "p1 = Person(\"john\",36)\n",
        "p1.myfunc()\n",
        "\n",
        "#print(p1.name)\n",
        "#print(p1.age)\n"
      ]
    },
    {
      "cell_type": "code",
      "execution_count": 299,
      "metadata": {},
      "outputs": [],
      "source": [
        "p1.age = 40"
      ]
    },
    {
      "cell_type": "code",
      "execution_count": 300,
      "metadata": {},
      "outputs": [],
      "source": [
        "# özellik siiyor.\n",
        "del p1.age"
      ]
    },
    {
      "cell_type": "code",
      "execution_count": 301,
      "metadata": {},
      "outputs": [],
      "source": [
        "# nesne siiyor.\n",
        "del p1"
      ]
    },
    {
      "cell_type": "code",
      "execution_count": 302,
      "metadata": {},
      "outputs": [],
      "source": [
        "# class tanımları boş olamaz bunun için içlerine pass (geçiş) yazılır.\n",
        "class person:\n",
        "    pass"
      ]
    },
    {
      "cell_type": "markdown",
      "metadata": {},
      "source": [
        "Python Inheritance ( python kalıtım )"
      ]
    },
    {
      "cell_type": "code",
      "execution_count": 303,
      "metadata": {},
      "outputs": [
        {
          "name": "stdout",
          "output_type": "stream",
          "text": [
            "jhon Doe\n"
          ]
        }
      ],
      "source": [
        "class Person:\n",
        "    def __init__(self,fname,lname):\n",
        "        self.firstname = fname\n",
        "        self.lastname = lname\n",
        "    \n",
        "    def printname(self):\n",
        "        print(self.firstname, self.lastname)\n",
        "\n",
        "x = Person(\"jhon\",\"Doe\")\n",
        "x.printname()"
      ]
    },
    {
      "cell_type": "code",
      "execution_count": 307,
      "metadata": {},
      "outputs": [],
      "source": [
        "# Person classını ile aynı özelliklerde class oluşturmak için bu şekilde kullanıır. ekstra özellik eklemek istemiyorsak pass kullanılır.\n",
        "class Student(Person):\n",
        "    pass"
      ]
    },
    {
      "cell_type": "code",
      "execution_count": 308,
      "metadata": {},
      "outputs": [
        {
          "name": "stdout",
          "output_type": "stream",
          "text": [
            "Mike Olsen\n"
          ]
        }
      ],
      "source": [
        "# sutudent nesnesinin parametrelerini girdik ve printname fonksiyonunu kullandık. \n",
        "x = Student(\"Mike\",\"Olsen\")\n",
        "x.printname()"
      ]
    },
    {
      "cell_type": "code",
      "execution_count": 313,
      "metadata": {},
      "outputs": [],
      "source": [
        "class Student(Person):\n",
        "    def __init__(self,fname,lname):\n",
        "        pass"
      ]
    },
    {
      "cell_type": "code",
      "execution_count": 314,
      "metadata": {},
      "outputs": [],
      "source": [
        "class Student(Person):\n",
        "    def __init__(self,fname,lname):\n",
        "        person.__init__(self,fname,lname)"
      ]
    },
    {
      "cell_type": "code",
      "execution_count": 315,
      "metadata": {},
      "outputs": [],
      "source": [
        "class Student(Person):\n",
        "  def __init__(self, fname, lname):\n",
        "    super().__init__(fname, lname)"
      ]
    },
    {
      "cell_type": "code",
      "execution_count": null,
      "metadata": {},
      "outputs": [],
      "source": [
        "class Student(Person):\n",
        "  def __init__(self, fname, lname):\n",
        "    super().__init__(fname, lname)\n",
        "    self.graduationyear = 2019"
      ]
    },
    {
      "cell_type": "code",
      "execution_count": 316,
      "metadata": {},
      "outputs": [],
      "source": [
        "class Student(Person):\n",
        "  def __init__(self, fname, lname, year):\n",
        "    super().__init__(fname, lname)\n",
        "    self.graduationyear = year\n",
        "\n",
        "x = Student(\"Mike\", \"Olsen\", 2019)"
      ]
    },
    {
      "cell_type": "markdown",
      "metadata": {},
      "source": [
        "Python Iterators(Python Yineleyiciler)"
      ]
    },
    {
      "cell_type": "code",
      "execution_count": 317,
      "metadata": {},
      "outputs": [],
      "source": [
        "# demetleri'de sözcüklerine ayırabiliyoruz.\n",
        "mytuple = (\"apple\",\"banana\",\"cherry\")\n",
        "myit = iter(mytuple)\n"
      ]
    },
    {
      "cell_type": "code",
      "execution_count": 321,
      "metadata": {},
      "outputs": [
        {
          "name": "stdout",
          "output_type": "stream",
          "text": [
            "b\n",
            "a\n",
            "n\n",
            "a\n",
            "n\n",
            "a\n"
          ]
        }
      ],
      "source": [
        "# kelimeleri'de sözcüklerine ayırabiliyoruz.\n",
        "mystr = \"banana\"\n",
        "myit = iter(mystr)\n",
        "\n",
        "print(next(myit))\n",
        "print(next(myit))\n",
        "print(next(myit))\n",
        "print(next(myit))\n",
        "print(next(myit))\n",
        "print(next(myit))"
      ]
    },
    {
      "cell_type": "code",
      "execution_count": 322,
      "metadata": {},
      "outputs": [
        {
          "name": "stdout",
          "output_type": "stream",
          "text": [
            "apple\n",
            "banana\n",
            "cherry\n",
            "b\n",
            "a\n",
            "n\n",
            "a\n",
            "n\n",
            "a\n"
          ]
        }
      ],
      "source": [
        "#yukarıda yapılan işlem tekrar tekrar print yazmak yerine for yapısını kullanarakta yapabiliyoruz.\n",
        "mytuple = (\"apple\", \"banana\", \"cherry\")\n",
        "\n",
        "for x in mytuple:\n",
        "    print(x)\n",
        "  \n",
        "for x in mystr:\n",
        "    print(x)"
      ]
    },
    {
      "cell_type": "code",
      "execution_count": 324,
      "metadata": {},
      "outputs": [
        {
          "name": "stdout",
          "output_type": "stream",
          "text": [
            "1\n",
            "2\n",
            "3\n",
            "4\n",
            "5\n",
            "6\n",
            "7\n",
            "8\n",
            "9\n",
            "10\n",
            "11\n",
            "12\n",
            "13\n",
            "14\n",
            "15\n",
            "16\n",
            "17\n",
            "18\n",
            "19\n",
            "20\n"
          ]
        }
      ],
      "source": [
        "# yada kendi yinelemeizi oluşturabiliyoruz ve bunu istediğimiz kadar yazdırabiiyoruz.\n",
        "class MyNumbers:\n",
        "    def __iter__(self):\n",
        "        self.a = 1\n",
        "        return self\n",
        "    \n",
        "    def __next__(self):\n",
        "        if self.a <=20:\n",
        "            x = self.a\n",
        "            self.a += 1\n",
        "            return x\n",
        "        else:\n",
        "            raise StopIteration\n",
        "\n",
        "\n",
        "myiter = iter(MyNumbers())\n",
        "\n",
        "for x in myiter:\n",
        "    print(x)"
      ]
    },
    {
      "cell_type": "markdown",
      "metadata": {},
      "source": [
        "Python Scope (Python Kapsamı)"
      ]
    },
    {
      "cell_type": "code",
      "execution_count": 325,
      "metadata": {},
      "outputs": [
        {
          "name": "stdout",
          "output_type": "stream",
          "text": [
            "300\n"
          ]
        }
      ],
      "source": [
        "# fonksiyonun içindeki değişkenlere yerel değişken denir ve fonksiyonun içindeki değişkene fonksiyonun içindexi fonksiyondan ulaşılabilinir.\n",
        "# fonksiyonun dişindaki değişkene global değişken denir ve ve fonksiyonlarda kullanılabilinir.\n",
        "\n",
        "x = 200\n",
        "def myfunc():\n",
        "    x = 300\n",
        "    def myinnerfunc():\n",
        "        print(x)\n",
        "    myinnerfunc()\n",
        "myfunc()"
      ]
    },
    {
      "cell_type": "code",
      "execution_count": 326,
      "metadata": {},
      "outputs": [
        {
          "name": "stdout",
          "output_type": "stream",
          "text": [
            "200\n"
          ]
        }
      ],
      "source": [
        "# fonksiyonun içnde global değişken oluşturmak için global fonksiyonu kullanılır ve bu değiştirliemez.\n",
        "x = 300\n",
        "def myfunc():\n",
        "    global x \n",
        "    x = 200\n",
        "\n",
        "myfunc()\n",
        "print(x)"
      ]
    },
    {
      "cell_type": "markdown",
      "metadata": {},
      "source": [
        "Python Modules (Python Modülleri)"
      ]
    },
    {
      "cell_type": "code",
      "execution_count": 327,
      "metadata": {},
      "outputs": [],
      "source": [
        "# bu fonksiyonu mymodule.py adında kaydedersek\n",
        "\n",
        "def greeting(name):\n",
        "    print(\"Hello,\" + name)\n",
        "\n",
        "\n",
        "# başka bir dosyada yukarıda kaydettiğimiz dosya adını import ederek çağrıp kullanabiliriz.\n",
        "\n",
        "# import mymodule\n",
        "# mymodule.greeting(\"jonathan\")\n",
        "\n",
        "# bunun çıktısı hello jonathan olur."
      ]
    },
    {
      "cell_type": "code",
      "execution_count": null,
      "metadata": {},
      "outputs": [],
      "source": [
        "# dosyadaki sözlüğe erişme bu fonksiyonu mymodule.py adında kaydedersek.\n",
        "\n",
        "# person1 = {\n",
        "# \"name\": \"john\",\n",
        "# \"age\":\"36\",\n",
        "# \"country\": \"Norway\"\n",
        "# }\n",
        "\n",
        "# modülleri yeniden adlandıra biliriz.\n",
        "\n",
        "# import mymodule as mx\n",
        "# a = mx.person1[\"age\"]\n",
        "# print(a)\n",
        "\n",
        "\n",
        "# modüllerin tanımlı fonksiyonlarını gösteriri.\n",
        "\n",
        "# x = dir(mymodule)\n",
        "# print(x)\n",
        "\n",
        "\n",
        "# modüllerin beli bir fonksiyonunu çağırmaya yarar.\n",
        "\n",
        "# form mymodule import person1\n",
        "\n",
        "# print(persona1[\"age\"])\n"
      ]
    },
    {
      "cell_type": "markdown",
      "metadata": {},
      "source": [
        " Python Datetime (Python Tarih Saati)"
      ]
    },
    {
      "cell_type": "code",
      "execution_count": 335,
      "metadata": {},
      "outputs": [
        {
          "name": "stdout",
          "output_type": "stream",
          "text": [
            "2022-08-07 12:19:13.401088\n",
            "*********************\n",
            "2022\n",
            "*********************\n",
            "Sunday\n",
            "*********************\n",
            "June\n"
          ]
        }
      ],
      "source": [
        "# zaman kütühpahnesini çagrıyoruz. Daha geniş bir kullanım klavuzu W3school'da bulunuyor.\n",
        "import datetime\n",
        "\n",
        "# zaaman ve tarihi now fonksiyonu ile x'e atadık.\n",
        "x = datetime.datetime.now()\n",
        "\n",
        "# zaman ve tarihi yazdırdık.\n",
        "print(x)\n",
        "print(\"*********************\")\n",
        "\n",
        "# x'e atanan tarihten yıl değerimizi çekiyoruz.\n",
        "print(x.year)\n",
        "print(\"*********************\")\n",
        "\n",
        "# x'e atadığımız tarihteki gün değerini string olarak verir. strftime fonksiyonuna %A yazmak gerekir.\n",
        "print(x.strftime(\"%A\"))\n",
        "print(\"*********************\")\n",
        "\n",
        "# datetime.datetime fonksiyonu ile istediğmiz tarihleri yazdırabiliyoruz.\n",
        "x = datetime.datetime(2018,6,1)\n",
        "# x'e atadığımız tarihteki ay değerini string olarak verir. strftime fonksiyonuna %B yazmak gerekir.\n",
        "print(x.strftime(\"%B\"))\n",
        "\n",
        "\n"
      ]
    },
    {
      "cell_type": "markdown",
      "metadata": {},
      "source": [
        "Python Math (Python Matematik)"
      ]
    },
    {
      "cell_type": "code",
      "execution_count": 336,
      "metadata": {},
      "outputs": [
        {
          "name": "stdout",
          "output_type": "stream",
          "text": [
            "5\n",
            "*********************\n",
            "25\n",
            "*********************\n",
            "64\n",
            "*********************\n",
            "Bmv\n"
          ]
        }
      ],
      "source": [
        "# min fonksiyonu içine girilen değerlerin sayısal değeri en küçük olanı verir.\n",
        "a = min(5, 10, 25)\n",
        "\n",
        "# max fonksiyonu içine girilen değerlerin sayısal değeri en büyük olanı verir.\n",
        "b = max(5, 10, 25)\n",
        "\n",
        "# abs fonksiyonu içinde olan sayıyı mutlak değere alır ve pzitif bir değer verir.\n",
        "c = abs(-7.25)\n",
        "\n",
        "# pow fonksiyonu içine girilen birinci değerin ikinci girilen değer kadar üstünü alır.\n",
        "c = pow(4, 3)\n",
        "\n",
        "print(a)\n",
        "print(\"*********************\")\n",
        "print(b)\n",
        "print(\"*********************\")\n",
        "print(c)\n",
        "print(\"*********************\")\n",
        "print(d)\n"
      ]
    },
    {
      "cell_type": "code",
      "execution_count": 337,
      "metadata": {},
      "outputs": [
        {
          "name": "stdout",
          "output_type": "stream",
          "text": [
            "8.0\n",
            "*********************\n",
            "2\n",
            "*********************\n",
            "1\n",
            "*********************\n",
            "3.141592653589793\n"
          ]
        }
      ],
      "source": [
        "# matematik kütüphanesini çağırdık buradaki fonksiyonları kullanmak için matematik kütüphanesi gereklidir.\n",
        "import math\n",
        "\n",
        "# sqrt fonksiyonu içine girilen değerin kare kökünü alır ve float tipinde verir.(8.0)\n",
        "x = math.sqrt(64)\n",
        "\n",
        "# ceil fonksiyonu içine girilen sayısal değeri en yakın üst tam sayı değerine yuvarlar ve intiger tipinde verir.\n",
        "y = math.ceil(1.4)\n",
        "\n",
        "# floor fonksiyonu içine girilen sayısal değeri en yakın alt tam sayı değerine yuvarlar ve intiger tipinde verir.\n",
        "z = math.floor(1.4)\n",
        "\n",
        "# pi fonksiyonu pi sayısını verir.\n",
        "j = math.pi\n",
        "\n",
        "print(x)\n",
        "print(\"*********************\")\n",
        "print(y)\n",
        "print(\"*********************\")\n",
        "print(z)\n",
        "print(\"*********************\")\n",
        "print(j)\n"
      ]
    },
    {
      "cell_type": "markdown",
      "metadata": {},
      "source": [
        "Python JSON (Python JSON'u)"
      ]
    },
    {
      "cell_type": "code",
      "execution_count": 338,
      "metadata": {},
      "outputs": [],
      "source": [
        "import json"
      ]
    },
    {
      "cell_type": "code",
      "execution_count": 342,
      "metadata": {},
      "outputs": [
        {
          "name": "stdout",
          "output_type": "stream",
          "text": [
            "30\n"
          ]
        }
      ],
      "source": [
        "# sözlük yapısını json'a dönüştürmek için string olması gerekiyor.\n",
        "x = '{\"name\":\"jhon\",\"age\":\"30\",\"city\":\"New York\"}'\n",
        "\n",
        "# sözlük biçimindeki string değeri loads fonksiyonu ile json'a aktara biliyoruz.\n",
        "y = json.loads(x)\n",
        "\n",
        "# json'a dönüştürdüğümüz sözlüğün Age değerini alıyoruz.\n",
        "print(y[\"age\"])"
      ]
    },
    {
      "cell_type": "markdown",
      "metadata": {},
      "source": [
        "Python RegEx (Python Normal İfade)"
      ]
    },
    {
      "cell_type": "code",
      "execution_count": 353,
      "metadata": {},
      "outputs": [
        {
          "name": "stdout",
          "output_type": "stream",
          "text": [
            "['ai', 'ai']\n",
            "['The', 'rain', 'in Spain']\n",
            "The9rain9in9Spain\n"
          ]
        }
      ],
      "source": [
        "import re\n",
        "\n",
        "# search fonksiyonu ile parametre olarak girilen ilk değer ikinci değerin içinde arıyor ikinci değişkenin içinde var ise True yok ise False değerlerini veriyor. \n",
        "txt = \"The rain in Spain\"\n",
        "x = re.search(\"^The.*Spain$\", txt)\n",
        "\n",
        "# findall fonksiyonu ile  birinci parametresinde girilen string ifadeyi ikinci parametreye girilen değişkende arıyor ve birinci parametredeki string ifade nin bulunduğu sayı kadar birinci parametredeki değeri liste şeklinde veriyor.\n",
        "txt = \"The rain in Spain\"\n",
        "y = re.findall(\"ai\", txt)\n",
        "print(y)\n",
        "\n",
        "# search fonksiyonu ile  ilk parametrede girilen boşluk değeri ni ikinci parametrede girilen string ifadede arıyor ve bulunduğu kdeğeri yazıyor.\n",
        "txt = \"The rain in Spain\"\n",
        "z = re.search(\"\\s\", txt)\n",
        "\n",
        "# split split fonksiyonu ie ilk parametrede yazılan değeri ikinci parametrede yazan string ifadede bulunduğu yerden bölüyor ve x değişkenine liste tipinde atıyor. 3 parametre olarak girilen sayı değerindeki aranan ifadenin olduğu yerden kesiyor.\n",
        "txt = \"The rain in Spain\"\n",
        "j = re.split(\"\\s\", txt,2)\n",
        "print(j)\n",
        "\n",
        "# sub fonksiyonu üçünü parametrenin içinde birinci parametrenin bulunduğu yerlere ikinci parametreyi yazıyor.\n",
        "txt = \"The rain in Spain\"\n",
        "k = re.sub(\"\\s\", \"9\", txt)\n",
        "print(k)\n"
      ]
    },
    {
      "cell_type": "markdown",
      "metadata": {},
      "source": [
        "Python PIP (Python PIP)"
      ]
    },
    {
      "cell_type": "code",
      "execution_count": null,
      "metadata": {},
      "outputs": [],
      "source": [
        "# pip modülleri indirmek için kullandığımız bir paket yöneticisidir.\n",
        "# pip'in kurulu olup olmadığını anlamak için cmd'ye (C:\\Users\\Your Name\\AppData\\Local\\Programs\\Python\\Python36-32\\Scripts>pip --version) yazın\n",
        "# Eğer pip yüklü değil ise (https://pypi.org/project/pip/) buradan yükleyebilirsiniz.\n",
        "# pip ile bir paket (modül) indirmek isterseniz (pip install \"paket adını\") yazarak yükleyebilirsiniz.\n",
        "# daha fazla modü için (https://pypi.org/) adresine gidebilirsiniz.\n",
        "# yüklü bir paketi kaldırmak için (pip uninstall paket adını) yazarak kaldırabilirsiniz.\n",
        "# yüklü olan paketleri versiyonu ile birlikte görmek için(pip list) yazarak görebilirsiniz."
      ]
    },
    {
      "cell_type": "markdown",
      "metadata": {},
      "source": [
        "Python Try Except (Python Denemesi Dışında)"
      ]
    },
    {
      "cell_type": "code",
      "execution_count": null,
      "metadata": {},
      "outputs": [],
      "source": [
        "# Blok try, fonksiyonun altında oluşan kodda hata olunca program durmuyor except fonksiyonunun altındaki kodu uygular.\n",
        "\n",
        "# Blok except, hata olunca except fonksiyonunun altında yazan kodu uygular.\n",
        "\n",
        "# Blok else, hata olmadığında kodu çalıştırmanıza izin verir.\n",
        "\n",
        "# Blok finally, deneme ve hariç blokların sonucundan bağımsız olarak kod yürütmenize izin verir."
      ]
    },
    {
      "cell_type": "code",
      "execution_count": 358,
      "metadata": {},
      "outputs": [
        {
          "name": "stdout",
          "output_type": "stream",
          "text": [
            "<re.Match object; span=(0, 17), match='The rain in Spain'>\n",
            "Nothing went wrong\n"
          ]
        }
      ],
      "source": [
        "# try fonksiyonu hata verdi ama except fonkiyonunu uygular ve birden fazla except olabilir, else komudu ise try fonksiyonu hata vermiyor ise uygulanacak kod bu komudun altına yazılabilinir,finally komudu try fonksiyonu hata versede vermesede çalışır.\n",
        "try:\n",
        "  print(x)\n",
        "except NameError:\n",
        "  print(\"Variable x is not defined\")\n",
        "except:\n",
        "  print(\"Something else went wrong\")\n",
        "else:\n",
        "  print(\"Nothing went wrong\")\n",
        "finally:\n",
        "  print(\"The 'try except' is finished\")"
      ]
    },
    {
      "cell_type": "markdown",
      "metadata": {},
      "source": [
        "Python User Input (Python Kullanıcı Girişi)"
      ]
    },
    {
      "cell_type": "code",
      "execution_count": 354,
      "metadata": {},
      "outputs": [
        {
          "name": "stdout",
          "output_type": "stream",
          "text": [
            "Username is: x<zc<\n"
          ]
        }
      ],
      "source": [
        "# kullanıcıdan bir bilgi alıyoruz ve username değişkenine atıyoruz ve aşagıda iksini tpolayıp yazdırıyoruz.\n",
        "username = input(\"Enter username:\")\n",
        "print(\"Username is: \" + username)"
      ]
    },
    {
      "cell_type": "markdown",
      "metadata": {},
      "source": [
        "Python String Formatting (Python Dize Biçimlendirme)"
      ]
    },
    {
      "cell_type": "code",
      "execution_count": 355,
      "metadata": {},
      "outputs": [
        {
          "name": "stdout",
          "output_type": "stream",
          "text": [
            "The price is 49.00 dollars\n"
          ]
        }
      ],
      "source": [
        "# belirlenen price değişkenini txt değişkeninin içine format fonksiyonu ile ekleyebiliyoruz. ve istediğimiz tipte yazdırabiliyoruz.\n",
        "price = 49\n",
        "txt = \"The price is {:.2f} dollars\"\n",
        "print(txt.format(price))"
      ]
    }
  ],
  "metadata": {
    "colab": {
      "collapsed_sections": [],
      "name": "w3school python.ipynb",
      "provenance": []
    },
    "kernelspec": {
      "display_name": "Python 3.9.13 64-bit (windows store)",
      "language": "python",
      "name": "python3"
    },
    "language_info": {
      "codemirror_mode": {
        "name": "ipython",
        "version": 3
      },
      "file_extension": ".py",
      "mimetype": "text/x-python",
      "name": "python",
      "nbconvert_exporter": "python",
      "pygments_lexer": "ipython3",
      "version": "3.9.13 (tags/v3.9.13:6de2ca5, May 17 2022, 16:36:42) [MSC v.1929 64 bit (AMD64)]"
    },
    "vscode": {
      "interpreter": {
        "hash": "f361e105c218c69ef4e62008aa763db0c31d9488d63ababa72dfd8a5633b37e7"
      }
    }
  },
  "nbformat": 4,
  "nbformat_minor": 0
}
